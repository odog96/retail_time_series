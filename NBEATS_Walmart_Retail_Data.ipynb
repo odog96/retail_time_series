{
  "cells": [
    {
      "cell_type": "markdown",
      "metadata": {
        "id": "view-in-github",
        "colab_type": "text"
      },
      "source": [
        "<a href=\"https://colab.research.google.com/github/odog96/retail_time_series/blob/main/NBEATS_Walmart_Retail_Data.ipynb\" target=\"_parent\"><img src=\"https://colab.research.google.com/assets/colab-badge.svg\" alt=\"Open In Colab\"/></a>"
      ]
    },
    {
      "cell_type": "markdown",
      "metadata": {
        "id": "JPv5G8naqyT3"
      },
      "source": [
        "## Using N-Beats to Forecast Retail Data\n",
        "\n",
        "https://www.kaggle.com/c/walmart-recruiting-store-sales-forecasting <br>"
      ]
    },
    {
      "cell_type": "code",
      "execution_count": null,
      "metadata": {
        "id": "CNmWY90u-921"
      },
      "outputs": [],
      "source": [
        "import os\n",
        "import pandas as pd\n",
        "import numpy as np\n",
        "\n",
        "import matplotlib as mlab\n",
        "import matplotlib.pyplot as plt\n",
        "import seaborn as sns \n",
        "\n",
        "import io\n",
        "\n",
        "import statsmodels.api as sm    \n",
        "import scipy.stats as stats \n",
        "import math\n",
        "import time\n",
        "from pylab import rcParams\n",
        "\n",
        "import sys\n",
        "from functools import reduce\n",
        "\n",
        "from datetime import date, timedelta\n",
        "from pandas.tseries.offsets import Day, MonthBegin, MonthEnd\n",
        "import itertools\n",
        "from sklearn.metrics import mean_absolute_error, mean_absolute_percentage_error, mean_squared_error\n",
        "\n",
        "from google.colab import drive\n",
        "from google.colab import files\n",
        "\n",
        "\n",
        "from sklearn.metrics import confusion_matrix, classification_report\n",
        "from sklearn.preprocessing import StandardScaler\n",
        "from sklearn.decomposition import PCA\n",
        "from sklearn.manifold import TSNE\n",
        "from sklearn.ensemble import RandomForestClassifier\n",
        "from sklearn.metrics import mean_squared_error as MSE\n",
        "from sklearn.metrics import accuracy_score, mean_absolute_percentage_error, mean_absolute_error\n",
        "\n",
        "import tensorflow as tf\n",
        "from tensorflow import keras\n",
        "import tensorflow_datasets as tfds\n",
        "from tensorflow.keras import models, layers\n",
        "from tensorflow.keras.layers import Conv1D,BatchNormalization, Dropout, Flatten, Input, Dense\n",
        "from tensorflow.keras.callbacks import ModelCheckpoint, EarlyStopping\n",
        "from tensorflow.keras.models import Sequential\n",
        "\n",
        "from sklearn.model_selection import train_test_split\n",
        "from sklearn.preprocessing import MinMaxScaler\n",
        "from sklearn.metrics import mean_squared_error"
      ]
    },
    {
      "cell_type": "markdown",
      "metadata": {
        "id": "yssSVKUrvca2"
      },
      "source": [
        "### Functions"
      ]
    },
    {
      "cell_type": "code",
      "execution_count": null,
      "metadata": {
        "id": "sr0vs3S1DAB-"
      },
      "outputs": [],
      "source": [
        "# Generate training set with features and labels (from time series data)\n",
        "def window_gen(x,window,horizon):\n",
        "  x_t = []\n",
        "  y_t = []\n",
        "  # two years is 104 weeks\n",
        "  for i in range(window,len(x)-horizon):\n",
        "    x_t.append(x[i-window:i,0])\n",
        "    y_t.append(x[i:i+horizon,0])\n",
        "  return x_t,y_t"
      ]
    },
    {
      "cell_type": "code",
      "execution_count": null,
      "metadata": {
        "id": "1z-eFA8AKbAj"
      },
      "outputs": [],
      "source": [
        "def dataset(x_train,y_train,x_valid,y_valid, batch):\n",
        "  \"\"\"\n",
        "  take in arrays, output tensors. Original code sourced from \n",
        "  https://github.com/mrdbourke/tensorflow-deep-learning/blob/main/10_time_series_forecasting_in_tensorflow.ipynb\n",
        "  \"\"\"\n",
        "  train_features_dataset = tf.data.Dataset.from_tensor_slices(x_train)\n",
        "  train_labels_dataset = tf.data.Dataset.from_tensor_slices(y_train)\n",
        "\n",
        "  test_features_dataset = tf.data.Dataset.from_tensor_slices(x_valid)\n",
        "  test_labels_dataset = tf.data.Dataset.from_tensor_slices(y_valid)\n",
        "\n",
        "  train_dataset = tf.data.Dataset.zip((train_features_dataset, train_labels_dataset))\n",
        "  test_dataset = tf.data.Dataset.zip((test_features_dataset, test_labels_dataset))\n",
        "\n",
        "  train_dataset = train_dataset.batch(batch).prefetch(tf.data.AUTOTUNE)\n",
        "  test_dataset = test_dataset.batch(batch).prefetch(tf.data.AUTOTUNE)\n",
        "\n",
        "  return train_dataset, test_dataset"
      ]
    },
    {
      "cell_type": "code",
      "execution_count": null,
      "metadata": {
        "id": "rTO0fUUR4_C1"
      },
      "outputs": [],
      "source": [
        "# Fill Function\n",
        "def fill_blanks(df,srl_num,range,value_variable,date_variable):\n",
        "  \"\"\"\n",
        "  fills missing observations. Naive approach - assumes missing data represent 0 sales.\n",
        "  \"\"\"\n",
        "  stage_df = df.copy()\n",
        "  for comb in stage_df[srl_num].unique(): \n",
        "    temp = stage_df[stage_df[srl_num] == comb].copy()\n",
        "    stage_df = stage_df[stage_df[srl_num] != comb] # remove existing series detail\n",
        "    temp2 = range.merge(temp,how='left',on=date_variable)\n",
        "    # since we are filling missing data, other fields will be missing to\n",
        "    # value info will be filled by zero, for other fields, we simply forward fill\n",
        "    # Then back fill for full missing value coverage    \n",
        "    temp2[value_variable].fillna(0,inplace=True)\n",
        "    temp2.fillna(method='ffill',inplace=True)\n",
        "    temp2.fillna(method='bfill',inplace=True)\n",
        "    # replace with new, full data subset\n",
        "    stage_df = stage_df.append(temp2,ignore_index=True)\n",
        "  return stage_df"
      ]
    },
    {
      "cell_type": "code",
      "execution_count": null,
      "metadata": {
        "id": "bcCRq1-aU_h-"
      },
      "outputs": [],
      "source": [
        "def change_shape(temp):\n",
        "  temp = temp[['Weekly_Sales','Date']].copy()  # create single series dataframe\n",
        "  y = temp.Weekly_Sales.values          # extract values\n",
        "  y = y.reshape(y.shape[0],1)           # reshape\n",
        "  return y"
      ]
    },
    {
      "cell_type": "markdown",
      "metadata": {
        "id": "AChonYhAt4vQ"
      },
      "source": [
        "### Strategy\n",
        "The entire dataset contains lots of features such as:\n",
        "- Markdown\n",
        "- Holidays\n",
        "- CPI\n",
        "- Fuel Price\n",
        "- Plus much more <br>\n",
        "\n",
        "For this exercise, we'll be considering only sales. So a univaritate multiseries approach. In a different notebook, I'll look at adding the full set of featues in a different notebook. <br>\n",
        "\n",
        "**EDA** - *I will not be posting EDA here. You should defintely conduct eda, but the focus here is to look at the N-BEATS implementation.*"
      ]
    },
    {
      "cell_type": "markdown",
      "metadata": {
        "id": "yxa_5ZJ3tuVr"
      },
      "source": [
        "This notebooks looks exclusively at univariate (only past sales data) to forecast."
      ]
    },
    {
      "cell_type": "markdown",
      "metadata": {
        "id": "Hohx_LVgAzwj"
      },
      "source": [
        "### Data Munging\n",
        "The data 'pack' contains the following files:<br>\n",
        "- **Train** - contains date, store, department, sales, holiday\n",
        "- Features -  All dates (test + train), fuel price, Markdowns (multiple columns), CPI, unemployment, holiday\n",
        "- Stores - Store number, size\n",
        "- test - contains store, department, date\n",
        "\n",
        "Again, we are only using 'Train' for this data exercise.\n",
        "\n",
        "**Data Munging Steps**\n",
        "1. Take in data \n",
        "2. Serialize data (create an id for each store, dept combination)\n",
        "3. Split data set by 'forecastable' and not - Training data contain 143 weekly observations. Some store, dept combinations (series) however do not contain nearly enough (less that 52 weeks) of data to forecast. These series, will be thrown into a simple forecast set (simple_forecast). The forecast for these series will be a simple mean"
      ]
    },
    {
      "cell_type": "code",
      "execution_count": null,
      "metadata": {
        "colab": {
          "base_uri": "https://localhost:8080/",
          "height": 73,
          "resources": {
            "http://localhost:8080/nbextensions/google.colab/files.js": {
              "data": "Ly8gQ29weXJpZ2h0IDIwMTcgR29vZ2xlIExMQwovLwovLyBMaWNlbnNlZCB1bmRlciB0aGUgQXBhY2hlIExpY2Vuc2UsIFZlcnNpb24gMi4wICh0aGUgIkxpY2Vuc2UiKTsKLy8geW91IG1heSBub3QgdXNlIHRoaXMgZmlsZSBleGNlcHQgaW4gY29tcGxpYW5jZSB3aXRoIHRoZSBMaWNlbnNlLgovLyBZb3UgbWF5IG9idGFpbiBhIGNvcHkgb2YgdGhlIExpY2Vuc2UgYXQKLy8KLy8gICAgICBodHRwOi8vd3d3LmFwYWNoZS5vcmcvbGljZW5zZXMvTElDRU5TRS0yLjAKLy8KLy8gVW5sZXNzIHJlcXVpcmVkIGJ5IGFwcGxpY2FibGUgbGF3IG9yIGFncmVlZCB0byBpbiB3cml0aW5nLCBzb2Z0d2FyZQovLyBkaXN0cmlidXRlZCB1bmRlciB0aGUgTGljZW5zZSBpcyBkaXN0cmlidXRlZCBvbiBhbiAiQVMgSVMiIEJBU0lTLAovLyBXSVRIT1VUIFdBUlJBTlRJRVMgT1IgQ09ORElUSU9OUyBPRiBBTlkgS0lORCwgZWl0aGVyIGV4cHJlc3Mgb3IgaW1wbGllZC4KLy8gU2VlIHRoZSBMaWNlbnNlIGZvciB0aGUgc3BlY2lmaWMgbGFuZ3VhZ2UgZ292ZXJuaW5nIHBlcm1pc3Npb25zIGFuZAovLyBsaW1pdGF0aW9ucyB1bmRlciB0aGUgTGljZW5zZS4KCi8qKgogKiBAZmlsZW92ZXJ2aWV3IEhlbHBlcnMgZm9yIGdvb2dsZS5jb2xhYiBQeXRob24gbW9kdWxlLgogKi8KKGZ1bmN0aW9uKHNjb3BlKSB7CmZ1bmN0aW9uIHNwYW4odGV4dCwgc3R5bGVBdHRyaWJ1dGVzID0ge30pIHsKICBjb25zdCBlbGVtZW50ID0gZG9jdW1lbnQuY3JlYXRlRWxlbWVudCgnc3BhbicpOwogIGVsZW1lbnQudGV4dENvbnRlbnQgPSB0ZXh0OwogIGZvciAoY29uc3Qga2V5IG9mIE9iamVjdC5rZXlzKHN0eWxlQXR0cmlidXRlcykpIHsKICAgIGVsZW1lbnQuc3R5bGVba2V5XSA9IHN0eWxlQXR0cmlidXRlc1trZXldOwogIH0KICByZXR1cm4gZWxlbWVudDsKfQoKLy8gTWF4IG51bWJlciBvZiBieXRlcyB3aGljaCB3aWxsIGJlIHVwbG9hZGVkIGF0IGEgdGltZS4KY29uc3QgTUFYX1BBWUxPQURfU0laRSA9IDEwMCAqIDEwMjQ7CgpmdW5jdGlvbiBfdXBsb2FkRmlsZXMoaW5wdXRJZCwgb3V0cHV0SWQpIHsKICBjb25zdCBzdGVwcyA9IHVwbG9hZEZpbGVzU3RlcChpbnB1dElkLCBvdXRwdXRJZCk7CiAgY29uc3Qgb3V0cHV0RWxlbWVudCA9IGRvY3VtZW50LmdldEVsZW1lbnRCeUlkKG91dHB1dElkKTsKICAvLyBDYWNoZSBzdGVwcyBvbiB0aGUgb3V0cHV0RWxlbWVudCB0byBtYWtlIGl0IGF2YWlsYWJsZSBmb3IgdGhlIG5leHQgY2FsbAogIC8vIHRvIHVwbG9hZEZpbGVzQ29udGludWUgZnJvbSBQeXRob24uCiAgb3V0cHV0RWxlbWVudC5zdGVwcyA9IHN0ZXBzOwoKICByZXR1cm4gX3VwbG9hZEZpbGVzQ29udGludWUob3V0cHV0SWQpOwp9CgovLyBUaGlzIGlzIHJvdWdobHkgYW4gYXN5bmMgZ2VuZXJhdG9yIChub3Qgc3VwcG9ydGVkIGluIHRoZSBicm93c2VyIHlldCksCi8vIHdoZXJlIHRoZXJlIGFyZSBtdWx0aXBsZSBhc3luY2hyb25vdXMgc3RlcHMgYW5kIHRoZSBQeXRob24gc2lkZSBpcyBnb2luZwovLyB0byBwb2xsIGZvciBjb21wbGV0aW9uIG9mIGVhY2ggc3RlcC4KLy8gVGhpcyB1c2VzIGEgUHJvbWlzZSB0byBibG9jayB0aGUgcHl0aG9uIHNpZGUgb24gY29tcGxldGlvbiBvZiBlYWNoIHN0ZXAsCi8vIHRoZW4gcGFzc2VzIHRoZSByZXN1bHQgb2YgdGhlIHByZXZpb3VzIHN0ZXAgYXMgdGhlIGlucHV0IHRvIHRoZSBuZXh0IHN0ZXAuCmZ1bmN0aW9uIF91cGxvYWRGaWxlc0NvbnRpbnVlKG91dHB1dElkKSB7CiAgY29uc3Qgb3V0cHV0RWxlbWVudCA9IGRvY3VtZW50LmdldEVsZW1lbnRCeUlkKG91dHB1dElkKTsKICBjb25zdCBzdGVwcyA9IG91dHB1dEVsZW1lbnQuc3RlcHM7CgogIGNvbnN0IG5leHQgPSBzdGVwcy5uZXh0KG91dHB1dEVsZW1lbnQubGFzdFByb21pc2VWYWx1ZSk7CiAgcmV0dXJuIFByb21pc2UucmVzb2x2ZShuZXh0LnZhbHVlLnByb21pc2UpLnRoZW4oKHZhbHVlKSA9PiB7CiAgICAvLyBDYWNoZSB0aGUgbGFzdCBwcm9taXNlIHZhbHVlIHRvIG1ha2UgaXQgYXZhaWxhYmxlIHRvIHRoZSBuZXh0CiAgICAvLyBzdGVwIG9mIHRoZSBnZW5lcmF0b3IuCiAgICBvdXRwdXRFbGVtZW50Lmxhc3RQcm9taXNlVmFsdWUgPSB2YWx1ZTsKICAgIHJldHVybiBuZXh0LnZhbHVlLnJlc3BvbnNlOwogIH0pOwp9CgovKioKICogR2VuZXJhdG9yIGZ1bmN0aW9uIHdoaWNoIGlzIGNhbGxlZCBiZXR3ZWVuIGVhY2ggYXN5bmMgc3RlcCBvZiB0aGUgdXBsb2FkCiAqIHByb2Nlc3MuCiAqIEBwYXJhbSB7c3RyaW5nfSBpbnB1dElkIEVsZW1lbnQgSUQgb2YgdGhlIGlucHV0IGZpbGUgcGlja2VyIGVsZW1lbnQuCiAqIEBwYXJhbSB7c3RyaW5nfSBvdXRwdXRJZCBFbGVtZW50IElEIG9mIHRoZSBvdXRwdXQgZGlzcGxheS4KICogQHJldHVybiB7IUl0ZXJhYmxlPCFPYmplY3Q+fSBJdGVyYWJsZSBvZiBuZXh0IHN0ZXBzLgogKi8KZnVuY3Rpb24qIHVwbG9hZEZpbGVzU3RlcChpbnB1dElkLCBvdXRwdXRJZCkgewogIGNvbnN0IGlucHV0RWxlbWVudCA9IGRvY3VtZW50LmdldEVsZW1lbnRCeUlkKGlucHV0SWQpOwogIGlucHV0RWxlbWVudC5kaXNhYmxlZCA9IGZhbHNlOwoKICBjb25zdCBvdXRwdXRFbGVtZW50ID0gZG9jdW1lbnQuZ2V0RWxlbWVudEJ5SWQob3V0cHV0SWQpOwogIG91dHB1dEVsZW1lbnQuaW5uZXJIVE1MID0gJyc7CgogIGNvbnN0IHBpY2tlZFByb21pc2UgPSBuZXcgUHJvbWlzZSgocmVzb2x2ZSkgPT4gewogICAgaW5wdXRFbGVtZW50LmFkZEV2ZW50TGlzdGVuZXIoJ2NoYW5nZScsIChlKSA9PiB7CiAgICAgIHJlc29sdmUoZS50YXJnZXQuZmlsZXMpOwogICAgfSk7CiAgfSk7CgogIGNvbnN0IGNhbmNlbCA9IGRvY3VtZW50LmNyZWF0ZUVsZW1lbnQoJ2J1dHRvbicpOwogIGlucHV0RWxlbWVudC5wYXJlbnRFbGVtZW50LmFwcGVuZENoaWxkKGNhbmNlbCk7CiAgY2FuY2VsLnRleHRDb250ZW50ID0gJ0NhbmNlbCB1cGxvYWQnOwogIGNvbnN0IGNhbmNlbFByb21pc2UgPSBuZXcgUHJvbWlzZSgocmVzb2x2ZSkgPT4gewogICAgY2FuY2VsLm9uY2xpY2sgPSAoKSA9PiB7CiAgICAgIHJlc29sdmUobnVsbCk7CiAgICB9OwogIH0pOwoKICAvLyBXYWl0IGZvciB0aGUgdXNlciB0byBwaWNrIHRoZSBmaWxlcy4KICBjb25zdCBmaWxlcyA9IHlpZWxkIHsKICAgIHByb21pc2U6IFByb21pc2UucmFjZShbcGlja2VkUHJvbWlzZSwgY2FuY2VsUHJvbWlzZV0pLAogICAgcmVzcG9uc2U6IHsKICAgICAgYWN0aW9uOiAnc3RhcnRpbmcnLAogICAgfQogIH07CgogIGNhbmNlbC5yZW1vdmUoKTsKCiAgLy8gRGlzYWJsZSB0aGUgaW5wdXQgZWxlbWVudCBzaW5jZSBmdXJ0aGVyIHBpY2tzIGFyZSBub3QgYWxsb3dlZC4KICBpbnB1dEVsZW1lbnQuZGlzYWJsZWQgPSB0cnVlOwoKICBpZiAoIWZpbGVzKSB7CiAgICByZXR1cm4gewogICAgICByZXNwb25zZTogewogICAgICAgIGFjdGlvbjogJ2NvbXBsZXRlJywKICAgICAgfQogICAgfTsKICB9CgogIGZvciAoY29uc3QgZmlsZSBvZiBmaWxlcykgewogICAgY29uc3QgbGkgPSBkb2N1bWVudC5jcmVhdGVFbGVtZW50KCdsaScpOwogICAgbGkuYXBwZW5kKHNwYW4oZmlsZS5uYW1lLCB7Zm9udFdlaWdodDogJ2JvbGQnfSkpOwogICAgbGkuYXBwZW5kKHNwYW4oCiAgICAgICAgYCgke2ZpbGUudHlwZSB8fCAnbi9hJ30pIC0gJHtmaWxlLnNpemV9IGJ5dGVzLCBgICsKICAgICAgICBgbGFzdCBtb2RpZmllZDogJHsKICAgICAgICAgICAgZmlsZS5sYXN0TW9kaWZpZWREYXRlID8gZmlsZS5sYXN0TW9kaWZpZWREYXRlLnRvTG9jYWxlRGF0ZVN0cmluZygpIDoKICAgICAgICAgICAgICAgICAgICAgICAgICAgICAgICAgICAgJ24vYSd9IC0gYCkpOwogICAgY29uc3QgcGVyY2VudCA9IHNwYW4oJzAlIGRvbmUnKTsKICAgIGxpLmFwcGVuZENoaWxkKHBlcmNlbnQpOwoKICAgIG91dHB1dEVsZW1lbnQuYXBwZW5kQ2hpbGQobGkpOwoKICAgIGNvbnN0IGZpbGVEYXRhUHJvbWlzZSA9IG5ldyBQcm9taXNlKChyZXNvbHZlKSA9PiB7CiAgICAgIGNvbnN0IHJlYWRlciA9IG5ldyBGaWxlUmVhZGVyKCk7CiAgICAgIHJlYWRlci5vbmxvYWQgPSAoZSkgPT4gewogICAgICAgIHJlc29sdmUoZS50YXJnZXQucmVzdWx0KTsKICAgICAgfTsKICAgICAgcmVhZGVyLnJlYWRBc0FycmF5QnVmZmVyKGZpbGUpOwogICAgfSk7CiAgICAvLyBXYWl0IGZvciB0aGUgZGF0YSB0byBiZSByZWFkeS4KICAgIGxldCBmaWxlRGF0YSA9IHlpZWxkIHsKICAgICAgcHJvbWlzZTogZmlsZURhdGFQcm9taXNlLAogICAgICByZXNwb25zZTogewogICAgICAgIGFjdGlvbjogJ2NvbnRpbnVlJywKICAgICAgfQogICAgfTsKCiAgICAvLyBVc2UgYSBjaHVua2VkIHNlbmRpbmcgdG8gYXZvaWQgbWVzc2FnZSBzaXplIGxpbWl0cy4gU2VlIGIvNjIxMTU2NjAuCiAgICBsZXQgcG9zaXRpb24gPSAwOwogICAgZG8gewogICAgICBjb25zdCBsZW5ndGggPSBNYXRoLm1pbihmaWxlRGF0YS5ieXRlTGVuZ3RoIC0gcG9zaXRpb24sIE1BWF9QQVlMT0FEX1NJWkUpOwogICAgICBjb25zdCBjaHVuayA9IG5ldyBVaW50OEFycmF5KGZpbGVEYXRhLCBwb3NpdGlvbiwgbGVuZ3RoKTsKICAgICAgcG9zaXRpb24gKz0gbGVuZ3RoOwoKICAgICAgY29uc3QgYmFzZTY0ID0gYnRvYShTdHJpbmcuZnJvbUNoYXJDb2RlLmFwcGx5KG51bGwsIGNodW5rKSk7CiAgICAgIHlpZWxkIHsKICAgICAgICByZXNwb25zZTogewogICAgICAgICAgYWN0aW9uOiAnYXBwZW5kJywKICAgICAgICAgIGZpbGU6IGZpbGUubmFtZSwKICAgICAgICAgIGRhdGE6IGJhc2U2NCwKICAgICAgICB9LAogICAgICB9OwoKICAgICAgbGV0IHBlcmNlbnREb25lID0gZmlsZURhdGEuYnl0ZUxlbmd0aCA9PT0gMCA/CiAgICAgICAgICAxMDAgOgogICAgICAgICAgTWF0aC5yb3VuZCgocG9zaXRpb24gLyBmaWxlRGF0YS5ieXRlTGVuZ3RoKSAqIDEwMCk7CiAgICAgIHBlcmNlbnQudGV4dENvbnRlbnQgPSBgJHtwZXJjZW50RG9uZX0lIGRvbmVgOwoKICAgIH0gd2hpbGUgKHBvc2l0aW9uIDwgZmlsZURhdGEuYnl0ZUxlbmd0aCk7CiAgfQoKICAvLyBBbGwgZG9uZS4KICB5aWVsZCB7CiAgICByZXNwb25zZTogewogICAgICBhY3Rpb246ICdjb21wbGV0ZScsCiAgICB9CiAgfTsKfQoKc2NvcGUuZ29vZ2xlID0gc2NvcGUuZ29vZ2xlIHx8IHt9OwpzY29wZS5nb29nbGUuY29sYWIgPSBzY29wZS5nb29nbGUuY29sYWIgfHwge307CnNjb3BlLmdvb2dsZS5jb2xhYi5fZmlsZXMgPSB7CiAgX3VwbG9hZEZpbGVzLAogIF91cGxvYWRGaWxlc0NvbnRpbnVlLAp9Owp9KShzZWxmKTsK",
              "headers": [
                [
                  "content-type",
                  "application/javascript"
                ]
              ],
              "ok": true,
              "status": 200,
              "status_text": ""
            }
          }
        },
        "id": "qqvOBUyG8nDp",
        "outputId": "b9cc4a08-500d-42fc-c709-2259cc580044"
      },
      "outputs": [
        {
          "data": {
            "text/html": [
              "\n",
              "     <input type=\"file\" id=\"files-58aeea40-df6e-4db1-855a-48795d434c1c\" name=\"files[]\" multiple disabled\n",
              "        style=\"border:none\" />\n",
              "     <output id=\"result-58aeea40-df6e-4db1-855a-48795d434c1c\">\n",
              "      Upload widget is only available when the cell has been executed in the\n",
              "      current browser session. Please rerun this cell to enable.\n",
              "      </output>\n",
              "      <script src=\"/nbextensions/google.colab/files.js\"></script> "
            ],
            "text/plain": [
              "<IPython.core.display.HTML object>"
            ]
          },
          "metadata": {},
          "output_type": "display_data"
        },
        {
          "name": "stdout",
          "output_type": "stream",
          "text": [
            "Saving train.csv to train (1).csv\n"
          ]
        }
      ],
      "source": [
        "uploaded = files.upload()"
      ]
    },
    {
      "cell_type": "code",
      "execution_count": null,
      "metadata": {
        "id": "mol0V3jp8mp4"
      },
      "outputs": [],
      "source": [
        "df_train = pd.read_csv(io.BytesIO(uploaded['train.csv']))"
      ]
    },
    {
      "cell_type": "markdown",
      "metadata": {
        "id": "3vIMEU1pEOi0"
      },
      "source": [
        "#### Serialize the data<br>\n",
        "This will allow us later to loop through ids to generate forecasts"
      ]
    },
    {
      "cell_type": "code",
      "execution_count": null,
      "metadata": {
        "id": "vWWpuQ69EQiW"
      },
      "outputs": [],
      "source": [
        "# create a unique set of store, dept combinations, create a range\n",
        "comb = df_train[['Store','Dept']].drop_duplicates().reset_index().copy()\n",
        "comb['ts_id'] = pd.Series(range(comb.shape[0]))"
      ]
    },
    {
      "cell_type": "code",
      "execution_count": null,
      "metadata": {
        "id": "GL6WoMhiEZvS"
      },
      "outputs": [],
      "source": [
        "# merge comb set with train\n",
        "df_train = df_train.merge(comb.drop(['index'],axis=1),how='inner',on=['Store','Dept'])"
      ]
    },
    {
      "cell_type": "code",
      "execution_count": null,
      "metadata": {
        "colab": {
          "base_uri": "https://localhost:8080/",
          "height": 206
        },
        "id": "jGY_lR3iEvc0",
        "outputId": "cf2a9de9-bc28-4109-e71c-dec79dd5168e"
      },
      "outputs": [
        {
          "data": {
            "text/html": [
              "<div>\n",
              "<style scoped>\n",
              "    .dataframe tbody tr th:only-of-type {\n",
              "        vertical-align: middle;\n",
              "    }\n",
              "\n",
              "    .dataframe tbody tr th {\n",
              "        vertical-align: top;\n",
              "    }\n",
              "\n",
              "    .dataframe thead th {\n",
              "        text-align: right;\n",
              "    }\n",
              "</style>\n",
              "<table border=\"1\" class=\"dataframe\">\n",
              "  <thead>\n",
              "    <tr style=\"text-align: right;\">\n",
              "      <th></th>\n",
              "      <th>Store</th>\n",
              "      <th>Dept</th>\n",
              "      <th>Date</th>\n",
              "      <th>Weekly_Sales</th>\n",
              "      <th>IsHoliday</th>\n",
              "      <th>ts_id</th>\n",
              "    </tr>\n",
              "  </thead>\n",
              "  <tbody>\n",
              "    <tr>\n",
              "      <th>0</th>\n",
              "      <td>1</td>\n",
              "      <td>1</td>\n",
              "      <td>2010-02-05</td>\n",
              "      <td>24924.50</td>\n",
              "      <td>False</td>\n",
              "      <td>0</td>\n",
              "    </tr>\n",
              "    <tr>\n",
              "      <th>1</th>\n",
              "      <td>1</td>\n",
              "      <td>1</td>\n",
              "      <td>2010-02-12</td>\n",
              "      <td>46039.49</td>\n",
              "      <td>True</td>\n",
              "      <td>0</td>\n",
              "    </tr>\n",
              "    <tr>\n",
              "      <th>2</th>\n",
              "      <td>1</td>\n",
              "      <td>1</td>\n",
              "      <td>2010-02-19</td>\n",
              "      <td>41595.55</td>\n",
              "      <td>False</td>\n",
              "      <td>0</td>\n",
              "    </tr>\n",
              "    <tr>\n",
              "      <th>3</th>\n",
              "      <td>1</td>\n",
              "      <td>1</td>\n",
              "      <td>2010-02-26</td>\n",
              "      <td>19403.54</td>\n",
              "      <td>False</td>\n",
              "      <td>0</td>\n",
              "    </tr>\n",
              "    <tr>\n",
              "      <th>4</th>\n",
              "      <td>1</td>\n",
              "      <td>1</td>\n",
              "      <td>2010-03-05</td>\n",
              "      <td>21827.90</td>\n",
              "      <td>False</td>\n",
              "      <td>0</td>\n",
              "    </tr>\n",
              "  </tbody>\n",
              "</table>\n",
              "</div>"
            ],
            "text/plain": [
              "   Store  Dept        Date  Weekly_Sales  IsHoliday  ts_id\n",
              "0      1     1  2010-02-05      24924.50      False      0\n",
              "1      1     1  2010-02-12      46039.49       True      0\n",
              "2      1     1  2010-02-19      41595.55      False      0\n",
              "3      1     1  2010-02-26      19403.54      False      0\n",
              "4      1     1  2010-03-05      21827.90      False      0"
            ]
          },
          "execution_count": 11,
          "metadata": {},
          "output_type": "execute_result"
        }
      ],
      "source": [
        "df_train.head()"
      ]
    },
    {
      "cell_type": "markdown",
      "metadata": {
        "id": "odvHRwotBio_"
      },
      "source": [
        "#### Split Forecast dataset <br>\n",
        "- Remove series that don't have data for last 6 months\n",
        "- Remove series that don't have at least 52 weeks of data"
      ]
    },
    {
      "cell_type": "code",
      "execution_count": null,
      "metadata": {
        "id": "qG44KiGGCSWZ"
      },
      "outputs": [],
      "source": [
        "end_date = df_train.groupby('ts_id').Date.max().reset_index()"
      ]
    },
    {
      "cell_type": "code",
      "execution_count": null,
      "metadata": {
        "colab": {
          "base_uri": "https://localhost:8080/",
          "height": 206
        },
        "id": "m5doao-sT95i",
        "outputId": "bdd6039a-315c-4641-904e-ec4bc94a8e90"
      },
      "outputs": [
        {
          "data": {
            "text/html": [
              "<div>\n",
              "<style scoped>\n",
              "    .dataframe tbody tr th:only-of-type {\n",
              "        vertical-align: middle;\n",
              "    }\n",
              "\n",
              "    .dataframe tbody tr th {\n",
              "        vertical-align: top;\n",
              "    }\n",
              "\n",
              "    .dataframe thead th {\n",
              "        text-align: right;\n",
              "    }\n",
              "</style>\n",
              "<table border=\"1\" class=\"dataframe\">\n",
              "  <thead>\n",
              "    <tr style=\"text-align: right;\">\n",
              "      <th></th>\n",
              "      <th>ts_id</th>\n",
              "      <th>count</th>\n",
              "      <th>max_date</th>\n",
              "    </tr>\n",
              "  </thead>\n",
              "  <tbody>\n",
              "    <tr>\n",
              "      <th>1158</th>\n",
              "      <td>1219</td>\n",
              "      <td>1</td>\n",
              "      <td>2012-07-06</td>\n",
              "    </tr>\n",
              "    <tr>\n",
              "      <th>1084</th>\n",
              "      <td>1143</td>\n",
              "      <td>1</td>\n",
              "      <td>2012-07-20</td>\n",
              "    </tr>\n",
              "    <tr>\n",
              "      <th>2556</th>\n",
              "      <td>2698</td>\n",
              "      <td>1</td>\n",
              "      <td>2012-08-17</td>\n",
              "    </tr>\n",
              "    <tr>\n",
              "      <th>2574</th>\n",
              "      <td>2717</td>\n",
              "      <td>1</td>\n",
              "      <td>2012-07-13</td>\n",
              "    </tr>\n",
              "    <tr>\n",
              "      <th>1232</th>\n",
              "      <td>1295</td>\n",
              "      <td>1</td>\n",
              "      <td>2012-10-05</td>\n",
              "    </tr>\n",
              "  </tbody>\n",
              "</table>\n",
              "</div>"
            ],
            "text/plain": [
              "      ts_id  count    max_date\n",
              "1158   1219      1  2012-07-06\n",
              "1084   1143      1  2012-07-20\n",
              "2556   2698      1  2012-08-17\n",
              "2574   2717      1  2012-07-13\n",
              "1232   1295      1  2012-10-05"
            ]
          },
          "execution_count": 88,
          "metadata": {},
          "output_type": "execute_result"
        }
      ],
      "source": [
        "discard1 = end_date[end_date.Date < '2012-04-26']['ts_id'].values\n",
        "df_train_trim = df_train[~df_train.ts_id.isin(discard1)]\n",
        "# count # of observations by series\n",
        "ts_data = df_train_trim.groupby('ts_id').agg({'Weekly_Sales':'count','Date':'max'}).reset_index()\n",
        "ts_data.columns = ['ts_id','count','max_date']\n",
        "ts_data.sort_values('count').head()"
      ]
    },
    {
      "cell_type": "code",
      "execution_count": null,
      "metadata": {
        "id": "BMiYPQi_VKvl"
      },
      "outputs": [],
      "source": [
        "discard2 =ts_data[ts_data['count'] < 52]['ts_id'].values"
      ]
    },
    {
      "cell_type": "code",
      "execution_count": null,
      "metadata": {
        "id": "4ujfCJdfVKvm"
      },
      "outputs": [],
      "source": [
        "# second discard\n",
        "df_train_trim = df_train_trim[~df_train_trim.ts_id.isin(discard2)]\n"
      ]
    },
    {
      "cell_type": "code",
      "execution_count": null,
      "metadata": {
        "colab": {
          "base_uri": "https://localhost:8080/"
        },
        "id": "b54hhNcPAQRQ",
        "outputId": "e1be611b-c1eb-4453-8001-dfa06a0f505f"
      },
      "outputs": [
        {
          "name": "stderr",
          "output_type": "stream",
          "text": [
            "/usr/local/lib/python3.7/dist-packages/pandas/core/generic.py:5170: SettingWithCopyWarning: \n",
            "A value is trying to be set on a copy of a slice from a DataFrame.\n",
            "Try using .loc[row_indexer,col_indexer] = value instead\n",
            "\n",
            "See the caveats in the documentation: https://pandas.pydata.org/pandas-docs/stable/user_guide/indexing.html#returning-a-view-versus-a-copy\n",
            "  self[name] = value\n"
          ]
        }
      ],
      "source": [
        "#change \n",
        "df_train_trim.Date = pd.to_datetime(df_train_trim.Date)\n"
      ]
    },
    {
      "cell_type": "code",
      "execution_count": null,
      "metadata": {
        "id": "0NKB18M3NFID"
      },
      "outputs": [],
      "source": [
        "# ts_data = df_train_trim.groupby('ts_id').agg({'Weekly_Sales':'count','Date':'max'}).reset_index()\n",
        "# ts_data.columns = ['ts_id','count','max_date']\n",
        "# ts_data.sort_values('count').head()"
      ]
    },
    {
      "cell_type": "code",
      "execution_count": null,
      "metadata": {
        "colab": {
          "base_uri": "https://localhost:8080/"
        },
        "id": "hFXyrtos-h4Q",
        "outputId": "b8d7793a-8bc2-4134-8973-48b88222cab4"
      },
      "outputs": [
        {
          "name": "stderr",
          "output_type": "stream",
          "text": [
            "/usr/local/lib/python3.7/dist-packages/pandas/core/generic.py:5170: SettingWithCopyWarning: \n",
            "A value is trying to be set on a copy of a slice from a DataFrame.\n",
            "Try using .loc[row_indexer,col_indexer] = value instead\n",
            "\n",
            "See the caveats in the documentation: https://pandas.pydata.org/pandas-docs/stable/user_guide/indexing.html#returning-a-view-versus-a-copy\n",
            "  self[name] = value\n"
          ]
        }
      ],
      "source": [
        "# this list will be saved for latter. These series will be forecasted \n",
        "# with a very simple mean calculation\n",
        "discard = np.append(discard1,discard2,axis=0)\n",
        "simple_forecast = df_train[df_train.ts_id.isin(discard)]\n",
        "simple_forecast.Date = pd.to_datetime(simple_forecast.Date)"
      ]
    },
    {
      "cell_type": "code",
      "execution_count": null,
      "metadata": {
        "colab": {
          "base_uri": "https://localhost:8080/"
        },
        "id": "3mlllwQv-6ts",
        "outputId": "9a71d26e-275d-4f36-8825-92177d8289eb"
      },
      "outputs": [
        {
          "data": {
            "text/plain": [
              "Store                    int64\n",
              "Dept                     int64\n",
              "Date            datetime64[ns]\n",
              "Weekly_Sales           float64\n",
              "IsHoliday                 bool\n",
              "ts_id                    int64\n",
              "dtype: object"
            ]
          },
          "execution_count": 94,
          "metadata": {},
          "output_type": "execute_result"
        }
      ],
      "source": [
        "simple_forecast.dtypes"
      ]
    },
    {
      "cell_type": "code",
      "execution_count": null,
      "metadata": {
        "colab": {
          "base_uri": "https://localhost:8080/"
        },
        "id": "ddl0wCdl_y6z",
        "outputId": "6cd266b9-2695-4ed0-ee06-3241e03ecc18"
      },
      "outputs": [
        {
          "name": "stdout",
          "output_type": "stream",
          "text": [
            "CPU times: user 1min 36s, sys: 2.76 s, total: 1min 38s\n",
            "Wall time: 1min 33s\n"
          ]
        }
      ],
      "source": [
        "# Fill remaining dates with zeros\n",
        "%%time\n",
        "date_field = pd.date_range(start=df_train.Date.min(),end=df_train.Date.max(),closed=None,freq='W-FRI')\n",
        "date_field = pd.DataFrame(date_field)\n",
        "date_field.columns = ['Date']\n",
        "df_ready = fill_blanks(df_train_trim,'ts_id',date_field,'Weekly_Sales','Date')"
      ]
    },
    {
      "cell_type": "code",
      "execution_count": null,
      "metadata": {
        "colab": {
          "base_uri": "https://localhost:8080/"
        },
        "id": "5y43ym2nwfhZ",
        "outputId": "ec7ef2d9-d972-4607-f427-0a4c0bd07b2b"
      },
      "outputs": [
        {
          "data": {
            "text/plain": [
              "(2983,)"
            ]
          },
          "execution_count": 126,
          "metadata": {},
          "output_type": "execute_result"
        }
      ],
      "source": [
        "df_ready.ts_id.unique().shape"
      ]
    },
    {
      "cell_type": "markdown",
      "metadata": {
        "id": "q89iOw8IZ-EV"
      },
      "source": [
        "## Nbeats Implementation"
      ]
    },
    {
      "cell_type": "markdown",
      "metadata": {
        "id": "a9dpinha6W6o"
      },
      "source": [
        "### Model Configuration"
      ]
    },
    {
      "cell_type": "code",
      "execution_count": null,
      "metadata": {
        "id": "ocg2mZ74uFXh"
      },
      "outputs": [],
      "source": [
        "# Create NBeatsBlock custom layer \n",
        "# for custom DNN, using tensorflow subclassing\n",
        "\n",
        "class NBeatsBlock(tf.keras.layers.Layer):\n",
        "  def __init__(self, # the constructor takes all the hyperparameters for the layer\n",
        "               input_size: int,\n",
        "#               theta_size: int = ,\n",
        "               horizon: int,\n",
        "               n_neurons: int,\n",
        "               n_layers: int =4,\n",
        "               **kwargs): # the **kwargs argument takes care of all of the arguments for the parent class (input_shape, trainable, name)\n",
        "    super().__init__(**kwargs)\n",
        "    self.input_size = input_size\n",
        "    self.horizon = horizon\n",
        "    self.theta_size = self.input_size + self.horizon\n",
        "\n",
        "    self.n_neurons = n_neurons\n",
        "    self.n_layers = n_layers\n",
        "\n",
        "    # Block contains stack of 4 fully connected layers each has ReLU activation\n",
        "    self.hidden = [tf.keras.layers.Dense(n_neurons, activation=\"relu\") for _ in range(n_layers)]\n",
        "    # Output of block is a theta layer with linear activation\n",
        "    self.theta_layer = tf.keras.layers.Dense(self.theta_size, activation=\"linear\", name=\"theta\")\n",
        "\n",
        "  def call(self, inputs): # the call method is what runs when the layer is called \n",
        "    x = inputs \n",
        "    for layer in self.hidden: # pass inputs through each hidden layer \n",
        "      x = layer(x)\n",
        "    theta = self.theta_layer(x) \n",
        "    # Output the backcast and forecast from theta\n",
        "    backcast, forecast = theta[:, :self.input_size], theta[:, -self.horizon:]\n",
        "    return backcast, forecast"
      ]
    },
    {
      "cell_type": "markdown",
      "metadata": {
        "id": "SiS8BVKuEtEt"
      },
      "source": [
        "**Training data for N-BEATS**<br>\n",
        " Setting up training data for a deep learning model is more involved. This is done by using a sliding window, with fixed segments for training and label data. The label data represents the forecast horizon. For this research I began by slicing each series which contained 143 observations into segments of 120, each with 80 observations for training and 40 for labels. This was a convenient split as the prediction horizon was 39."
      ]
    },
    {
      "cell_type": "markdown",
      "metadata": {
        "id": "69lDg7_1EcUx"
      },
      "source": [
        "![windowing.png](data:image/png;base64,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)"
      ]
    },
    {
      "cell_type": "code",
      "execution_count": null,
      "metadata": {
        "id": "-xJnioiQ4jn0"
      },
      "outputs": [],
      "source": [
        "window = 80\n",
        "horizon = 40"
      ]
    },
    {
      "cell_type": "code",
      "execution_count": null,
      "metadata": {
        "colab": {
          "base_uri": "https://localhost:8080/"
        },
        "id": "7TY0z7cGEOGn",
        "outputId": "fc630439-9f26-46c8-efc0-3c8a8c485375"
      },
      "outputs": [
        {
          "data": {
            "text/plain": [
              "(80, 120)"
            ]
          },
          "execution_count": 129,
          "metadata": {},
          "output_type": "execute_result"
        }
      ],
      "source": [
        "# Values from N-BEATS paper Figure 1 and Table 18/Appendix D\n",
        "epochs = 5000 # called \"Iterations\" in Table 18\n",
        "neurons = 512 # called \"Width\" in Table 18\n",
        "block_layers = 4\n",
        "stacks = 30\n",
        "batch = 1024\n",
        "\n",
        "input_size = window # This should be a multiple of the horizon size.\n",
        "theta_size = input_size + horizon\n",
        "\n",
        "input_size, theta_size"
      ]
    },
    {
      "cell_type": "markdown",
      "metadata": {
        "id": "Yub6wR4162fA"
      },
      "source": [
        "### Data Pipeline\n",
        "1. For every series, there will be samples generated that include\n",
        "- featuers of size window\n",
        "- & labels of size horizon\n",
        "2. Then, the sampled data recoreds will be split into training and validation.\n",
        "3. Then grab the final 'window' number of samples (for example 80) and use this to make final prediction.<br>\n",
        "  - make sure prediction dates match the expected date range on submission file.\n",
        "4. Save this prediction   "
      ]
    },
    {
      "cell_type": "markdown",
      "metadata": {
        "id": "a8PdLyzzVHPH"
      },
      "source": [
        "![nbeats_architecture.png](data:image/png;base64,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)"
      ]
    },
    {
      "cell_type": "markdown",
      "metadata": {
        "id": "SPnE9yzC__7U"
      },
      "source": [
        "### Model Build out"
      ]
    },
    {
      "cell_type": "code",
      "execution_count": null,
      "metadata": {
        "colab": {
          "base_uri": "https://localhost:8080/"
        },
        "id": "xPzv1gtRpAN8",
        "outputId": "ee2b287f-3043-4508-b68f-7b2aa5c533fc"
      },
      "outputs": [
        {
          "name": "stdout",
          "output_type": "stream",
          "text": [
            "CPU times: user 5 µs, sys: 0 ns, total: 5 µs\n",
            "Wall time: 8.58 µs\n"
          ]
        }
      ],
      "source": [
        "%%time\n",
        "def model_build():\n",
        "  tf.random.set_seed(48)\n",
        "\n",
        "  # Initialize N-BEATS Block layer [ block 1]\n",
        "  nbeats_block_layer = NBeatsBlock(input_size=input_size,\n",
        "                                  horizon=horizon,\n",
        "                                  n_neurons=neurons,\n",
        "                                  n_layers=block_layers,\n",
        "                                  name=\"Block_1\")\n",
        "\n",
        "  # 2. Create input to stacks\n",
        "  stack_input = layers.Input(shape=(input_size), name=\"stack_input\")\n",
        "\n",
        "  # 3. Create initial backcast and forecast input (backwards predictions are referred to as residuals in the paper)\n",
        "  backcast, forecast = nbeats_block_layer(stack_input)\n",
        "  # Add in subtraction residual link, thank you to: https://github.com/mrdbourke/tensorflow-deep-learning/discussions/174 \n",
        "  residuals = layers.subtract([stack_input, backcast], name=f\"subtract_00\") \n",
        "\n",
        "  # 4. Create stacks of blocks\n",
        "  for i, _ in enumerate(range(stacks-1)): # generate all stacks after the first\n",
        "\n",
        "    # 5. Use the NBeatsBlock to calculate the backcast as well as block forecast\n",
        "    backcast, block_forecast = NBeatsBlock(\n",
        "        input_size=input_size,\n",
        "        horizon=horizon,\n",
        "        n_neurons=neurons,\n",
        "        n_layers=block_layers,\n",
        "        name=f\"NBeatsBlock_{i}\"\n",
        "    )(residuals) \n",
        "\n",
        "    # 6. Create the double residual stacking\n",
        "    residuals = layers.subtract([residuals, backcast], name=f\"subtract_{i}\") \n",
        "    forecast = layers.add([forecast, block_forecast], name=f\"add_{i}\")\n",
        "  return nbeats_block_layer, stack_input, backcast, forecast,residuals"
      ]
    },
    {
      "cell_type": "code",
      "execution_count": null,
      "metadata": {
        "id": "2CA6fuSCLCml"
      },
      "outputs": [],
      "source": [
        "nbeats_block_layer, stack_input, backcast, forecast,residuals = model_build()"
      ]
    },
    {
      "cell_type": "markdown",
      "metadata": {
        "id": "HfIsiZnkNnlt"
      },
      "source": [
        "### Data Build"
      ]
    },
    {
      "cell_type": "code",
      "execution_count": null,
      "metadata": {
        "id": "HOll3omGmouJ"
      },
      "outputs": [],
      "source": [
        "def data_build():\n",
        "  x, y = [],[]\n",
        "  ffeat = dict()  # final prediction features\n",
        "\n",
        "  for series in df_ready.ts_id.unique():\n",
        "    eval = []\n",
        "    temp = df_ready[df_ready.ts_id == series].copy()\n",
        "    ser = change_shape(temp)\n",
        "    #ser_scaled = scaler.fit_transform(ser) \n",
        "    ffeat[series] = ser[-window:]\n",
        "    #ser_scaled[-window:] # this wil be theseries to make final predictions\n",
        "    # create two sets of x and y. THe second will be used to generate the true \n",
        "    # values to calculate MAE\n",
        "    ## check if first series, if not append.\n",
        "    if len(x) > 0: # check only scaled, assume it same for both\n",
        "      #x_temp_scaled, y_temp_scaled = window_gen(ser_scaled,window,horizon)\n",
        "      x_temp, y_temp = window_gen(ser,window,horizon)\n",
        "      # non scaled arrays\n",
        "      for x_array in x_temp:\n",
        "        x.append(x_array)\n",
        "      for y_array in y_temp:\n",
        "        y.append(y_array)\n",
        "    else: \n",
        "      x, y = window_gen(ser,window,horizon)\n",
        "  return x,y,ffeat"
      ]
    },
    {
      "cell_type": "code",
      "execution_count": null,
      "metadata": {
        "id": "nzDgNccVP3a6"
      },
      "outputs": [],
      "source": [
        "x,y,ffeat = data_build()"
      ]
    },
    {
      "cell_type": "code",
      "execution_count": null,
      "metadata": {
        "colab": {
          "base_uri": "https://localhost:8080/"
        },
        "id": "-OLvCFO4wNKy",
        "outputId": "2c501b1b-d0be-42b4-8bc7-f4d76889a7c3"
      },
      "outputs": [
        {
          "data": {
            "text/plain": [
              "68609"
            ]
          },
          "execution_count": 134,
          "metadata": {},
          "output_type": "execute_result"
        }
      ],
      "source": [
        "len(x)"
      ]
    },
    {
      "cell_type": "code",
      "execution_count": null,
      "metadata": {
        "id": "BoSJw9dynAkr"
      },
      "outputs": [],
      "source": [
        "def data_split():\n",
        "  split_size = int(len(x) * 0.8)\n",
        "  # x_train, y_train = x_scaled[:split_size], y_scaled[:split_size]\n",
        "  # x_valid, y_valid = x_scaled[split_size:], y_scaled[split_size:]\n",
        "  x_train, y_train = x[:split_size], y[:split_size]\n",
        "  x_valid, y_valid = x[split_size:], y[split_size:]\n",
        "\n",
        "  # line below is redudant, but keeping it to not change references\n",
        "  x_valid_true, y_valid_true = x[split_size:], y[split_size:]\n",
        "  train_ds,valid_ds =  dataset(x_train,y_train,x_valid,y_valid,batch)\n",
        "  return train_ds,valid_ds, y_valid_true"
      ]
    },
    {
      "cell_type": "code",
      "execution_count": null,
      "metadata": {
        "id": "qsWTTaOkQGNw"
      },
      "outputs": [],
      "source": [
        "train_ds,valid_ds, y_valid_true = data_split()"
      ]
    },
    {
      "cell_type": "code",
      "execution_count": null,
      "metadata": {
        "id": "iEbA0Culnfdh"
      },
      "outputs": [],
      "source": [
        "def model_create():\n",
        "  # Put the stack model together\n",
        "  model = tf.keras.Model(inputs=stack_input, \n",
        "                        outputs=forecast, \n",
        "                        name=\"model_N-BEATS\")\n",
        "\n",
        "  # 8. Compile with MAE loss and Adam optimizer\n",
        "  model.compile(loss=\"mae\",\n",
        "                optimizer=tf.keras.optimizers.Adam(0.001),\n",
        "                metrics=[\"mae\", \"mse\"])\n",
        "  return model"
      ]
    },
    {
      "cell_type": "code",
      "execution_count": null,
      "metadata": {
        "id": "1yC9HqoRQO0e"
      },
      "outputs": [],
      "source": [
        "model = model_create()"
      ]
    },
    {
      "cell_type": "markdown",
      "metadata": {
        "id": "3sMckLH5N0H9"
      },
      "source": [
        "### Model fit"
      ]
    },
    {
      "cell_type": "code",
      "execution_count": null,
      "metadata": {
        "colab": {
          "base_uri": "https://localhost:8080/"
        },
        "id": "jjy_sfX3Nv4_",
        "outputId": "4f887024-1f32-4376-d4b8-201efd265afd"
      },
      "outputs": [
        {
          "name": "stdout",
          "output_type": "stream",
          "text": [
            "\n",
            "Epoch 00142: ReduceLROnPlateau reducing learning rate to 0.00010000000474974513.\n",
            "\n",
            "Epoch 00265: ReduceLROnPlateau reducing learning rate to 1.0000000474974514e-05.\n",
            "\n",
            "Epoch 00365: ReduceLROnPlateau reducing learning rate to 1.0000000656873453e-06.\n",
            "CPU times: user 15min 27s, sys: 16.4 s, total: 15min 43s\n",
            "Wall time: 17min 45s\n"
          ]
        }
      ],
      "source": [
        "%%time\n",
        "history = model.fit(train_ds,\n",
        "            epochs=epochs,\n",
        "            validation_data=valid_ds,\n",
        "            verbose=0, # prevent large amounts of training outputs\n",
        "            # callbacks=[create_model_checkpoint(model_name=stack_model.name)] # saving model every epoch consumes far too much time\n",
        "            callbacks=[tf.keras.callbacks.EarlyStopping(monitor=\"val_loss\", patience=200, restore_best_weights=True) \n",
        "              ,tf.keras.callbacks.ReduceLROnPlateau(monitor=\"val_loss\", patience=100, verbose=1)\n",
        "                      ])"
      ]
    },
    {
      "cell_type": "markdown",
      "metadata": {
        "id": "MjnXAMZiRFXy"
      },
      "source": [
        "**Performance**"
      ]
    },
    {
      "cell_type": "code",
      "execution_count": null,
      "metadata": {
        "colab": {
          "base_uri": "https://localhost:8080/"
        },
        "id": "Pc1HsJZcNv4_",
        "outputId": "d9cde790-32fc-4907-eae1-1a934c623008"
      },
      "outputs": [
        {
          "name": "stdout",
          "output_type": "stream",
          "text": [
            "14/14 [==============================] - 0s 20ms/step - loss: 1013.5490 - mae: 1013.5490 - mse: 4946314.5000\n"
          ]
        }
      ],
      "source": [
        "metrics = model.evaluate(valid_ds)"
      ]
    },
    {
      "cell_type": "code",
      "execution_count": null,
      "metadata": {
        "id": "onhptwxCNv5A"
      },
      "outputs": [],
      "source": [
        "val_pred = model.predict(valid_ds)\n",
        "#val_pred = scaler.inverse_transform(val_pred)"
      ]
    },
    {
      "cell_type": "code",
      "execution_count": null,
      "metadata": {
        "colab": {
          "base_uri": "https://localhost:8080/"
        },
        "id": "INr9vc-fNv5B",
        "outputId": "d828f366-c6f0-401d-f310-a6918d0aea6c"
      },
      "outputs": [
        {
          "name": "stdout",
          "output_type": "stream",
          "text": [
            "CPU times: user 4 s, sys: 218 ms, total: 4.22 s\n",
            "Wall time: 4.2 s\n"
          ]
        }
      ],
      "source": [
        "# builds the array for true values\n",
        "%%time \n",
        "empty = 1\n",
        "for array in y_valid_true:\n",
        "  if empty == 1:\n",
        "    Y_true = array.reshape(1,array.shape[0]).copy()\n",
        "    empty = 0\n",
        "  else:\n",
        "    Y_true = np.append(Y_true,array.reshape(1,array.shape[0]),axis=0)"
      ]
    },
    {
      "cell_type": "markdown",
      "metadata": {
        "id": "ZTsnan_8Nv5D"
      },
      "source": [
        "**Validation MAE**\n",
        "This is for validation set. So there will be 5 validation examples per series. There fore we will take the entire matrix of actual observations and compare to matrix of same size of predictions."
      ]
    },
    {
      "cell_type": "code",
      "execution_count": null,
      "metadata": {
        "colab": {
          "base_uri": "https://localhost:8080/"
        },
        "id": "efWLFFvENv5D",
        "outputId": "3b5a0a4d-85ae-4e60-ee50-6fba0b550908"
      },
      "outputs": [
        {
          "data": {
            "text/plain": [
              "1013.5488527608821"
            ]
          },
          "execution_count": 143,
          "metadata": {},
          "output_type": "execute_result"
        }
      ],
      "source": [
        "#This is the weighte MAE for validation data \n",
        "np.absolute(Y_true - val_pred).mean()"
      ]
    },
    {
      "cell_type": "code",
      "execution_count": null,
      "metadata": {
        "id": "o5T6xgniXF-8"
      },
      "outputs": [],
      "source": [
        "#losses = history.history['loss']\n",
        "mae = history.history['mae']\n",
        "#val_losses = history.history['val_loss']\n",
        "val_mae = history.history['val_mae']\n",
        "epochs = len(mae)"
      ]
    },
    {
      "cell_type": "code",
      "execution_count": null,
      "metadata": {
        "colab": {
          "base_uri": "https://localhost:8080/",
          "height": 335
        },
        "id": "1jiCXnqfXF-9",
        "outputId": "c7dd7978-2d8d-4809-e6d7-648239c3d2cf"
      },
      "outputs": [
        {
          "data": {
            "image/png": "[encoded data removed]",
            "text/plain": [
              "<Figure size 1080x360 with 1 Axes>"
            ]
          },
          "metadata": {
            "needs_background": "light"
          },
          "output_type": "display_data"
        }
      ],
      "source": [
        "fig = plt.figure(figsize=(15, 5))\n",
        "ax2 = fig.add_subplot()\n",
        "ax2.plot(range(epochs), mae, label='Training MAE')\n",
        "ax2.plot(range(epochs), val_mae, label='Validation MAE')\n",
        "ax2.set_title('MAE')\n",
        "ax2.legend()\n",
        "plt.show()"
      ]
    },
    {
      "cell_type": "markdown",
      "metadata": {
        "id": "cWmq6e18Nv5E"
      },
      "source": [
        "### Generate Final Prediction File\n",
        "\n",
        "There are 3 steps to this process:<br>\n",
        "1. Put prediction from N-BEATS model in to a dataframe\n",
        "2. Make a simple prediction for simple_forecast data frame\n",
        "3. Identify stores/dept combinations in test dataset, not in training*\n",
        "\n",
        "**There area series in the test data that are not in training. For this excercise we are setting these prediction to 0. Likely a better approach is to use a imputation methodology to estimate those sales.*"
      ]
    },
    {
      "cell_type": "markdown",
      "metadata": {
        "id": "SNEKl2Dy4PkC"
      },
      "source": [
        "**Upload Test Prediction File**"
      ]
    },
    {
      "cell_type": "code",
      "execution_count": null,
      "metadata": {
        "colab": {
          "base_uri": "https://localhost:8080/",
          "height": 73,
          "resources": {
            "http://localhost:8080/nbextensions/google.colab/files.js": {
              "data": "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",
              "headers": [
                [
                  "content-type",
                  "application/javascript"
                ]
              ],
              "ok": true,
              "status": 200,
              "status_text": ""
            }
          }
        },
        "id": "nEFjHttN4OtT",
        "outputId": "d2eeea3c-aea2-450f-cb91-9c19650a6f1f"
      },
      "outputs": [
        {
          "data": {
            "text/html": [
              "\n",
              "     <input type=\"file\" id=\"files-4f05c70e-f4c6-4e8f-8181-c3d446d64eab\" name=\"files[]\" multiple disabled\n",
              "        style=\"border:none\" />\n",
              "     <output id=\"result-4f05c70e-f4c6-4e8f-8181-c3d446d64eab\">\n",
              "      Upload widget is only available when the cell has been executed in the\n",
              "      current browser session. Please rerun this cell to enable.\n",
              "      </output>\n",
              "      <script src=\"/nbextensions/google.colab/files.js\"></script> "
            ],
            "text/plain": [
              "<IPython.core.display.HTML object>"
            ]
          },
          "metadata": {},
          "output_type": "display_data"
        },
        {
          "name": "stdout",
          "output_type": "stream",
          "text": [
            "Saving test.csv to test.csv\n"
          ]
        }
      ],
      "source": [
        "uploaded = files.upload()"
      ]
    },
    {
      "cell_type": "code",
      "execution_count": null,
      "metadata": {
        "id": "FWLZkrLu4OtU"
      },
      "outputs": [],
      "source": [
        "df_test = pd.read_csv(io.BytesIO(uploaded['test.csv']))"
      ]
    },
    {
      "cell_type": "code",
      "execution_count": null,
      "metadata": {
        "id": "K2tG1wJgGD7Y"
      },
      "outputs": [],
      "source": [
        "df_test.Date = pd.to_datetime(df_test.Date)"
      ]
    },
    {
      "cell_type": "code",
      "execution_count": null,
      "metadata": {
        "id": "aNwxFxjLNv5E"
      },
      "outputs": [],
      "source": [
        "date_series = pd.date_range(start=df_ready.Date.max(),periods=40,freq='W-FRI',closed='right')"
      ]
    },
    {
      "cell_type": "code",
      "execution_count": null,
      "metadata": {
        "colab": {
          "base_uri": "https://localhost:8080/"
        },
        "id": "WS8enaZtNv5E",
        "outputId": "f795f018-77d8-45f6-c771-17c7fe4dfa86"
      },
      "outputs": [
        {
          "name": "stdout",
          "output_type": "stream",
          "text": [
            "CPU times: user 2min 50s, sys: 6.34 s, total: 2min 56s\n",
            "Wall time: 2min 46s\n"
          ]
        }
      ],
      "source": [
        "%%time\n",
        "temp = []\n",
        "for key in ffeat:\n",
        "  # if key > 5:\n",
        "  #   break\n",
        "  #print('key is',key)\n",
        "  test = ffeat[key]\n",
        "  test = test.reshape(1,test.shape[0],1)\n",
        "  pred = model.predict(test)\n",
        "#  pred = scaler.inverse_transform(pred)\n",
        "  pred = pred[:,:39][0]\n",
        "  store = df_ready[df_ready.ts_id == key].iloc[:39,0]\n",
        "  dpt = df_ready[df_ready.ts_id == key].iloc[:39,1]\n",
        "  holiday = df_test[['Date','IsHoliday']].drop_duplicates().sort_values('Date')['IsHoliday']\n",
        "  for i in range(39):\n",
        "    temp.append({'Store':store.iloc[i],'Dept':dpt.iloc[i],'Date':date_series[i],'IsHoliday':holiday.iloc[i],'Weekly_Sales':pred[i]})"
      ]
    },
    {
      "cell_type": "markdown",
      "metadata": {
        "id": "j22aVLgi7qMp"
      },
      "source": [
        "**Put into required format**"
      ]
    },
    {
      "cell_type": "code",
      "execution_count": null,
      "metadata": {
        "id": "VwYSfRAL7Kxp"
      },
      "outputs": [],
      "source": [
        "df_pred1 = pd.DataFrame(temp)"
      ]
    },
    {
      "cell_type": "markdown",
      "metadata": {
        "id": "P3OQalRw-94W"
      },
      "source": [
        "**Handle simple forecast**"
      ]
    },
    {
      "cell_type": "code",
      "execution_count": null,
      "metadata": {
        "id": "5pHE2-5zNv5F"
      },
      "outputs": [],
      "source": [
        "fcast_array = simple_forecast.groupby('ts_id').Weekly_Sales.mean().reset_index()"
      ]
    },
    {
      "cell_type": "code",
      "execution_count": null,
      "metadata": {
        "colab": {
          "base_uri": "https://localhost:8080/",
          "height": 206
        },
        "id": "jllsPGd8Nv5F",
        "outputId": "2c32c4ad-d798-483c-edd3-28bcc3dd83c5"
      },
      "outputs": [
        {
          "data": {
            "text/html": [
              "<div>\n",
              "<style scoped>\n",
              "    .dataframe tbody tr th:only-of-type {\n",
              "        vertical-align: middle;\n",
              "    }\n",
              "\n",
              "    .dataframe tbody tr th {\n",
              "        vertical-align: top;\n",
              "    }\n",
              "\n",
              "    .dataframe thead th {\n",
              "        text-align: right;\n",
              "    }\n",
              "</style>\n",
              "<table border=\"1\" class=\"dataframe\">\n",
              "  <thead>\n",
              "    <tr style=\"text-align: right;\">\n",
              "      <th></th>\n",
              "      <th>ts_id</th>\n",
              "      <th>Weekly_Sales</th>\n",
              "    </tr>\n",
              "  </thead>\n",
              "  <tbody>\n",
              "    <tr>\n",
              "      <th>0</th>\n",
              "      <td>43</td>\n",
              "      <td>-116.454545</td>\n",
              "    </tr>\n",
              "    <tr>\n",
              "      <th>1</th>\n",
              "      <td>46</td>\n",
              "      <td>32.712727</td>\n",
              "    </tr>\n",
              "    <tr>\n",
              "      <th>2</th>\n",
              "      <td>58</td>\n",
              "      <td>677.000000</td>\n",
              "    </tr>\n",
              "    <tr>\n",
              "      <th>3</th>\n",
              "      <td>59</td>\n",
              "      <td>11.500000</td>\n",
              "    </tr>\n",
              "    <tr>\n",
              "      <th>4</th>\n",
              "      <td>76</td>\n",
              "      <td>306.091081</td>\n",
              "    </tr>\n",
              "  </tbody>\n",
              "</table>\n",
              "</div>"
            ],
            "text/plain": [
              "   ts_id  Weekly_Sales\n",
              "0     43   -116.454545\n",
              "1     46     32.712727\n",
              "2     58    677.000000\n",
              "3     59     11.500000\n",
              "4     76    306.091081"
            ]
          },
          "execution_count": 158,
          "metadata": {},
          "output_type": "execute_result"
        }
      ],
      "source": [
        "fcast_array.head()"
      ]
    },
    {
      "cell_type": "markdown",
      "metadata": {
        "id": "FiG60LPR_Gu-"
      },
      "source": [
        "There are some negative numbers. We need to clip these values"
      ]
    },
    {
      "cell_type": "code",
      "execution_count": null,
      "metadata": {
        "id": "PTIRA40TJxsF"
      },
      "outputs": [],
      "source": [
        "#clip sales at 0 \n",
        "fcast_array.Weekly_Sales = np.clip(fcast_array.Weekly_Sales,a_min = 0,a_max=None)"
      ]
    },
    {
      "cell_type": "code",
      "execution_count": null,
      "metadata": {
        "colab": {
          "base_uri": "https://localhost:8080/",
          "height": 206
        },
        "id": "Wt1DWR4HBDDR",
        "outputId": "2bf0e0a1-b9d8-4cb8-ab99-b24c565bde40"
      },
      "outputs": [
        {
          "data": {
            "text/html": [
              "<div>\n",
              "<style scoped>\n",
              "    .dataframe tbody tr th:only-of-type {\n",
              "        vertical-align: middle;\n",
              "    }\n",
              "\n",
              "    .dataframe tbody tr th {\n",
              "        vertical-align: top;\n",
              "    }\n",
              "\n",
              "    .dataframe thead th {\n",
              "        text-align: right;\n",
              "    }\n",
              "</style>\n",
              "<table border=\"1\" class=\"dataframe\">\n",
              "  <thead>\n",
              "    <tr style=\"text-align: right;\">\n",
              "      <th></th>\n",
              "      <th>Store</th>\n",
              "      <th>Dept</th>\n",
              "      <th>Date</th>\n",
              "      <th>Weekly_Sales</th>\n",
              "      <th>IsHoliday</th>\n",
              "      <th>ts_id</th>\n",
              "    </tr>\n",
              "  </thead>\n",
              "  <tbody>\n",
              "    <tr>\n",
              "      <th>6047</th>\n",
              "      <td>1</td>\n",
              "      <td>47</td>\n",
              "      <td>2010-02-05</td>\n",
              "      <td>70.0</td>\n",
              "      <td>False</td>\n",
              "      <td>43</td>\n",
              "    </tr>\n",
              "    <tr>\n",
              "      <th>6048</th>\n",
              "      <td>1</td>\n",
              "      <td>47</td>\n",
              "      <td>2010-02-19</td>\n",
              "      <td>-863.0</td>\n",
              "      <td>False</td>\n",
              "      <td>43</td>\n",
              "    </tr>\n",
              "    <tr>\n",
              "      <th>6049</th>\n",
              "      <td>1</td>\n",
              "      <td>47</td>\n",
              "      <td>2010-03-12</td>\n",
              "      <td>-698.0</td>\n",
              "      <td>False</td>\n",
              "      <td>43</td>\n",
              "    </tr>\n",
              "    <tr>\n",
              "      <th>6050</th>\n",
              "      <td>1</td>\n",
              "      <td>47</td>\n",
              "      <td>2010-04-09</td>\n",
              "      <td>14.0</td>\n",
              "      <td>False</td>\n",
              "      <td>43</td>\n",
              "    </tr>\n",
              "    <tr>\n",
              "      <th>6051</th>\n",
              "      <td>1</td>\n",
              "      <td>47</td>\n",
              "      <td>2010-10-08</td>\n",
              "      <td>-58.0</td>\n",
              "      <td>False</td>\n",
              "      <td>43</td>\n",
              "    </tr>\n",
              "  </tbody>\n",
              "</table>\n",
              "</div>"
            ],
            "text/plain": [
              "      Store  Dept       Date  Weekly_Sales  IsHoliday  ts_id\n",
              "6047      1    47 2010-02-05          70.0      False     43\n",
              "6048      1    47 2010-02-19        -863.0      False     43\n",
              "6049      1    47 2010-03-12        -698.0      False     43\n",
              "6050      1    47 2010-04-09          14.0      False     43\n",
              "6051      1    47 2010-10-08         -58.0      False     43"
            ]
          },
          "execution_count": 175,
          "metadata": {},
          "output_type": "execute_result"
        }
      ],
      "source": [
        "simple_forecast.head()"
      ]
    },
    {
      "cell_type": "code",
      "execution_count": null,
      "metadata": {
        "colab": {
          "base_uri": "https://localhost:8080/",
          "height": 206
        },
        "id": "yD85uZkEBNqg",
        "outputId": "a7823a80-7280-4b5d-dccd-a0f10a1eb241"
      },
      "outputs": [
        {
          "data": {
            "text/html": [
              "<div>\n",
              "<style scoped>\n",
              "    .dataframe tbody tr th:only-of-type {\n",
              "        vertical-align: middle;\n",
              "    }\n",
              "\n",
              "    .dataframe tbody tr th {\n",
              "        vertical-align: top;\n",
              "    }\n",
              "\n",
              "    .dataframe thead th {\n",
              "        text-align: right;\n",
              "    }\n",
              "</style>\n",
              "<table border=\"1\" class=\"dataframe\">\n",
              "  <thead>\n",
              "    <tr style=\"text-align: right;\">\n",
              "      <th></th>\n",
              "      <th>ts_id</th>\n",
              "      <th>Weekly_Sales</th>\n",
              "    </tr>\n",
              "  </thead>\n",
              "  <tbody>\n",
              "    <tr>\n",
              "      <th>0</th>\n",
              "      <td>43</td>\n",
              "      <td>0.000000</td>\n",
              "    </tr>\n",
              "    <tr>\n",
              "      <th>1</th>\n",
              "      <td>46</td>\n",
              "      <td>32.712727</td>\n",
              "    </tr>\n",
              "    <tr>\n",
              "      <th>2</th>\n",
              "      <td>58</td>\n",
              "      <td>677.000000</td>\n",
              "    </tr>\n",
              "    <tr>\n",
              "      <th>3</th>\n",
              "      <td>59</td>\n",
              "      <td>11.500000</td>\n",
              "    </tr>\n",
              "    <tr>\n",
              "      <th>4</th>\n",
              "      <td>76</td>\n",
              "      <td>306.091081</td>\n",
              "    </tr>\n",
              "  </tbody>\n",
              "</table>\n",
              "</div>"
            ],
            "text/plain": [
              "   ts_id  Weekly_Sales\n",
              "0     43      0.000000\n",
              "1     46     32.712727\n",
              "2     58    677.000000\n",
              "3     59     11.500000\n",
              "4     76    306.091081"
            ]
          },
          "execution_count": 176,
          "metadata": {},
          "output_type": "execute_result"
        }
      ],
      "source": [
        "fcast_array.head()"
      ]
    },
    {
      "cell_type": "code",
      "execution_count": null,
      "metadata": {
        "id": "sAvzHYqlNv5F"
      },
      "outputs": [],
      "source": [
        "#for id in fcast_array.ts_id.unique():\n",
        "temp = []\n",
        "holiday = df_test[['Date','IsHoliday']].drop_duplicates().sort_values('Date')['IsHoliday']\n",
        "for row in fcast_array.iterrows():\n",
        "    store = simple_forecast[simple_forecast.ts_id == row[1][0]].iloc[0,0]\n",
        "    dpt = simple_forecast[simple_forecast.ts_id == row[1][0]].iloc[0,1]\n",
        "    pred = row[1][1]\n",
        "    for i in range(39):\n",
        "        temp.append({'Store':store,'Dept':dpt,'Date':date_series[i],'IsHoliday':holiday.iloc[i],'Weekly_Sales':pred})"
      ]
    },
    {
      "cell_type": "code",
      "execution_count": null,
      "metadata": {
        "id": "BpE6V9CW_wkA"
      },
      "outputs": [],
      "source": [
        "simple = pd.DataFrame(temp)"
      ]
    },
    {
      "cell_type": "markdown",
      "metadata": {
        "id": "R-PO6N62CGId"
      },
      "source": [
        "**Identify Series not in training**<br>\n",
        "set these to zero for forecast"
      ]
    },
    {
      "cell_type": "code",
      "execution_count": null,
      "metadata": {
        "id": "J7QbnEpK_ri4"
      },
      "outputs": [],
      "source": [
        "training_set = df_train[['Store','Dept']].drop_duplicates().sort_values(by=['Store','Dept'])\n",
        "df_all = df_test.merge(training_set, on=['Store','Dept'], how='left', indicator=True)"
      ]
    },
    {
      "cell_type": "code",
      "execution_count": null,
      "metadata": {
        "id": "ZupO9rTyCNoM"
      },
      "outputs": [],
      "source": [
        "crap_series = df_all[df_all._merge == 'left_only'][['Store','Dept']].drop_duplicates()"
      ]
    },
    {
      "cell_type": "code",
      "execution_count": null,
      "metadata": {
        "id": "klRIYCndCesH"
      },
      "outputs": [],
      "source": [
        "#for id in fcast_array.ts_id.unique():\n",
        "temp = []\n",
        "holiday = df_test[['Date','IsHoliday']].drop_duplicates().sort_values('Date')['IsHoliday']\n",
        "for row in crap_series.iterrows():\n",
        "    store = row[1][0]\n",
        "    dpt = row[1][1]\n",
        "    pred = 0\n",
        "    for i in range(39):\n",
        "        temp.append({'Store':store,'Dept':dpt,'Date':date_series[i],'IsHoliday':holiday.iloc[i],'Weekly_Sales':pred})"
      ]
    },
    {
      "cell_type": "code",
      "execution_count": null,
      "metadata": {
        "id": "kkxAvYB4DGhq"
      },
      "outputs": [],
      "source": [
        "crap = pd.DataFrame(temp)"
      ]
    },
    {
      "cell_type": "markdown",
      "metadata": {
        "id": "srRHTchzDL2k"
      },
      "source": [
        "**Combine Data**"
      ]
    },
    {
      "cell_type": "code",
      "execution_count": null,
      "metadata": {
        "id": "5-LJS9VxF8cm"
      },
      "outputs": [],
      "source": [
        "dft = df_test[['Store','Dept','Date']]\n",
        "df_pred = df_pred1.merge(dft,how='inner',on=['Store','Dept','Date'])\n",
        "\n",
        "simple_forecast = simple_forecast.merge(dft,how='inner',on=['Store','Dept','Date'])\n",
        "crap = crap.merge(dft,how='inner',on=['Store','Dept','Date'])\n",
        "\n",
        "df_pred_new = pd.concat([df_pred,simple_forecast,crap],ignore_index=True)"
      ]
    },
    {
      "cell_type": "code",
      "execution_count": null,
      "metadata": {
        "id": "85O63AXwHzM0"
      },
      "outputs": [],
      "source": [
        "df_pred_new.Store = df_pred_new.Store.astype(int)\n",
        "df_pred_new.Dept = df_pred_new.Dept.astype(int)"
      ]
    },
    {
      "cell_type": "code",
      "execution_count": null,
      "metadata": {
        "id": "Lpngtq2IDvTf"
      },
      "outputs": [],
      "source": [
        "temp = []\n",
        "for row in df_pred_new.iterrows():\n",
        "    id = str(row[1][0])+'_'+str(row[1][1])+'_'+str(row[1][2])[:10]\n",
        "    pred = row[1][4]\n",
        "    temp.append({'Id':id,'Weekly_Sales':pred})"
      ]
    },
    {
      "cell_type": "code",
      "execution_count": null,
      "metadata": {
        "id": "fdJHfk0H2CSh"
      },
      "outputs": [],
      "source": [
        "final_submission = pd.DataFrame(temp)"
      ]
    },
    {
      "cell_type": "code",
      "execution_count": null,
      "metadata": {
        "colab": {
          "base_uri": "https://localhost:8080/",
          "height": 206
        },
        "id": "urXc3z6GHjVb",
        "outputId": "0ddba778-8ced-4e92-b318-1a23c53249b3"
      },
      "outputs": [
        {
          "data": {
            "text/html": [
              "<div>\n",
              "<style scoped>\n",
              "    .dataframe tbody tr th:only-of-type {\n",
              "        vertical-align: middle;\n",
              "    }\n",
              "\n",
              "    .dataframe tbody tr th {\n",
              "        vertical-align: top;\n",
              "    }\n",
              "\n",
              "    .dataframe thead th {\n",
              "        text-align: right;\n",
              "    }\n",
              "</style>\n",
              "<table border=\"1\" class=\"dataframe\">\n",
              "  <thead>\n",
              "    <tr style=\"text-align: right;\">\n",
              "      <th></th>\n",
              "      <th>Id</th>\n",
              "      <th>Weekly_Sales</th>\n",
              "    </tr>\n",
              "  </thead>\n",
              "  <tbody>\n",
              "    <tr>\n",
              "      <th>0</th>\n",
              "      <td>1_1_2012-11-02</td>\n",
              "      <td>25379.138672</td>\n",
              "    </tr>\n",
              "    <tr>\n",
              "      <th>1</th>\n",
              "      <td>1_1_2012-11-09</td>\n",
              "      <td>19420.230469</td>\n",
              "    </tr>\n",
              "    <tr>\n",
              "      <th>2</th>\n",
              "      <td>1_1_2012-11-16</td>\n",
              "      <td>17355.078125</td>\n",
              "    </tr>\n",
              "    <tr>\n",
              "      <th>3</th>\n",
              "      <td>1_1_2012-11-23</td>\n",
              "      <td>21758.083984</td>\n",
              "    </tr>\n",
              "    <tr>\n",
              "      <th>4</th>\n",
              "      <td>1_1_2012-11-30</td>\n",
              "      <td>20395.638672</td>\n",
              "    </tr>\n",
              "  </tbody>\n",
              "</table>\n",
              "</div>"
            ],
            "text/plain": [
              "               Id  Weekly_Sales\n",
              "0  1_1_2012-11-02  25379.138672\n",
              "1  1_1_2012-11-09  19420.230469\n",
              "2  1_1_2012-11-16  17355.078125\n",
              "3  1_1_2012-11-23  21758.083984\n",
              "4  1_1_2012-11-30  20395.638672"
            ]
          },
          "execution_count": 209,
          "metadata": {},
          "output_type": "execute_result"
        }
      ],
      "source": [
        "final_submission.head()"
      ]
    }
  ],
  "metadata": {
    "accelerator": "GPU",
    "colab": {
      "collapsed_sections": [],
      "machine_shape": "hm",
      "name": "NBEATS_Walmart_Retail_Data.ipynb",
      "provenance": [],
      "toc_visible": true,
      "include_colab_link": true
    },
    "kernelspec": {
      "display_name": "Python 3.8.12 ('base')",
      "language": "python",
      "name": "python3"
    },
    "language_info": {
      "name": "python",
      "version": "3.8.12"
    },
    "vscode": {
      "interpreter": {
        "hash": "68e77a2019630c844ad2ed089cfeaa1ff41081e574fef0e7734cace63a14be5f"
      }
    }
  },
  "nbformat": 4,
  "nbformat_minor": 0
}