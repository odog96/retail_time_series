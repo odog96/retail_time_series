{
  "cells": [
    {
      "cell_type": "markdown",
      "metadata": {
        "id": "JPv5G8naqyT3"
      },
      "source": [
        "## Using N-Beats to Forecast Retail Data\n",
        "\n",
        "https://www.kaggle.com/c/walmart-recruiting-store-sales-forecasting <br>"
      ]
    },
    {
      "cell_type": "code",
      "execution_count": 68,
      "metadata": {
        "id": "CNmWY90u-921"
      },
      "outputs": [],
      "source": [
        "import os\n",
        "import pandas as pd\n",
        "import numpy as np\n",
        "\n",
        "import matplotlib as mlab\n",
        "import matplotlib.pyplot as plt\n",
        "import seaborn as sns \n",
        "\n",
        "import io\n",
        "\n",
        "import statsmodels.api as sm    \n",
        "import scipy.stats as stats \n",
        "import math\n",
        "import time\n",
        "from pylab import rcParams\n",
        "\n",
        "import sys\n",
        "from functools import reduce\n",
        "\n",
        "from datetime import date, timedelta\n",
        "from pandas.tseries.offsets import Day, MonthBegin, MonthEnd\n",
        "import itertools\n",
        "from sklearn.metrics import mean_absolute_error, mean_absolute_percentage_error, mean_squared_error\n",
        "\n",
        "from google.colab import drive\n",
        "from google.colab import files\n",
        "\n",
        "\n",
        "from sklearn.metrics import confusion_matrix, classification_report\n",
        "from sklearn.preprocessing import StandardScaler\n",
        "from sklearn.decomposition import PCA\n",
        "from sklearn.manifold import TSNE\n",
        "from sklearn.ensemble import RandomForestClassifier\n",
        "from sklearn.metrics import mean_squared_error as MSE\n",
        "from sklearn.metrics import accuracy_score, mean_absolute_percentage_error, mean_absolute_error\n",
        "\n",
        "import tensorflow as tf\n",
        "from tensorflow import keras\n",
        "import tensorflow_datasets as tfds\n",
        "from tensorflow.keras import models, layers\n",
        "from tensorflow.keras.layers import Conv1D,BatchNormalization, Dropout, Flatten, Input, Dense\n",
        "from tensorflow.keras.callbacks import ModelCheckpoint, EarlyStopping\n",
        "from tensorflow.keras.models import Sequential\n",
        "\n",
        "from sklearn.model_selection import train_test_split\n",
        "from sklearn.preprocessing import MinMaxScaler\n",
        "from sklearn.metrics import mean_squared_error"
      ]
    },
    {
      "cell_type": "markdown",
      "metadata": {
        "id": "yssSVKUrvca2"
      },
      "source": [
        "### Functions"
      ]
    },
    {
      "cell_type": "code",
      "execution_count": 69,
      "metadata": {
        "id": "sr0vs3S1DAB-"
      },
      "outputs": [],
      "source": [
        "# Generate training set with features and labels (from time series data)\n",
        "def window_gen(x,window,horizon):\n",
        "  x_t = []\n",
        "  y_t = []\n",
        "  # two years is 104 weeks\n",
        "  for i in range(window,len(x)-horizon):\n",
        "    x_t.append(x[i-window:i,0])\n",
        "    y_t.append(x[i:i+horizon,0])\n",
        "  return x_t,y_t"
      ]
    },
    {
      "cell_type": "code",
      "execution_count": 70,
      "metadata": {
        "id": "1z-eFA8AKbAj"
      },
      "outputs": [],
      "source": [
        "def dataset(x_train,y_train,x_valid,y_valid, batch):\n",
        "  \"\"\"\n",
        "  take in arrays, output tensors. Original code sourced from \n",
        "  https://github.com/mrdbourke/tensorflow-deep-learning/blob/main/10_time_series_forecasting_in_tensorflow.ipynb\n",
        "  \"\"\"\n",
        "  train_features_dataset = tf.data.Dataset.from_tensor_slices(x_train)\n",
        "  train_labels_dataset = tf.data.Dataset.from_tensor_slices(y_train)\n",
        "\n",
        "  test_features_dataset = tf.data.Dataset.from_tensor_slices(x_valid)\n",
        "  test_labels_dataset = tf.data.Dataset.from_tensor_slices(y_valid)\n",
        "\n",
        "  train_dataset = tf.data.Dataset.zip((train_features_dataset, train_labels_dataset))\n",
        "  test_dataset = tf.data.Dataset.zip((test_features_dataset, test_labels_dataset))\n",
        "\n",
        "  train_dataset = train_dataset.batch(batch).prefetch(tf.data.AUTOTUNE)\n",
        "  test_dataset = test_dataset.batch(batch).prefetch(tf.data.AUTOTUNE)\n",
        "\n",
        "  return train_dataset, test_dataset"
      ]
    },
    {
      "cell_type": "code",
      "execution_count": 71,
      "metadata": {
        "id": "rTO0fUUR4_C1"
      },
      "outputs": [],
      "source": [
        "# Fill Function\n",
        "def fill_blanks(df,srl_num,range,value_variable,date_variable):\n",
        "  \"\"\"\n",
        "  fills missing observations. Naive approach - assumes missing data represent 0 sales.\n",
        "  \"\"\"\n",
        "  stage_df = df.copy()\n",
        "  for comb in stage_df[srl_num].unique(): \n",
        "    temp = stage_df[stage_df[srl_num] == comb].copy()\n",
        "    stage_df = stage_df[stage_df[srl_num] != comb] # remove existing series detail\n",
        "    temp2 = range.merge(temp,how='left',on=date_variable)\n",
        "    # since we are filling missing data, other fields will be missing to\n",
        "    # value info will be filled by zero, for other fields, we simply forward fill\n",
        "    # Then back fill for full missing value coverage    \n",
        "    temp2[value_variable].fillna(0,inplace=True)\n",
        "    temp2.fillna(method='ffill',inplace=True)\n",
        "    temp2.fillna(method='bfill',inplace=True)\n",
        "    # replace with new, full data subset\n",
        "    stage_df = stage_df.append(temp2,ignore_index=True)\n",
        "  return stage_df"
      ]
    },
    {
      "cell_type": "code",
      "execution_count": 72,
      "metadata": {
        "id": "bcCRq1-aU_h-"
      },
      "outputs": [],
      "source": [
        "def change_shape(temp):\n",
        "  temp = temp[['Weekly_Sales','Date']].copy()  # create single series dataframe\n",
        "  y = temp.Weekly_Sales.values          # extract values\n",
        "  y = y.reshape(y.shape[0],1)           # reshape\n",
        "  return y"
      ]
    },
    {
      "cell_type": "markdown",
      "metadata": {
        "id": "AChonYhAt4vQ"
      },
      "source": [
        "### Strategy\n",
        "The entire dataset contains lots of features such as:\n",
        "- Markdown\n",
        "- Holidays\n",
        "- CPI\n",
        "- Fuel Price\n",
        "- Plus much more <br>\n",
        "\n",
        "For this exercise, we'll be considering only sales. So a univaritate multiseries approach. In a different notebook, I'll look at adding the full set of featues in a different notebook. <br>\n",
        "\n",
        "**EDA** - *I will not be posting EDA here. You should defintely conduct eda, but the focus here is to look at the N-BEATS implementation.*"
      ]
    },
    {
      "cell_type": "markdown",
      "metadata": {
        "id": "yxa_5ZJ3tuVr"
      },
      "source": [
        "This notebooks looks exclusively at univariate (only past sales data) to forecast."
      ]
    },
    {
      "cell_type": "markdown",
      "metadata": {
        "id": "Hohx_LVgAzwj"
      },
      "source": [
        "### Data Munging\n",
        "The data 'pack' contains the following files:<br>\n",
        "- **Train** - contains date, store, department, sales, holiday\n",
        "- Features -  All dates (test + train), fuel price, Markdowns (multiple columns), CPI, unemployment, holiday\n",
        "- Stores - Store number, size\n",
        "- test - contains store, department, date\n",
        "\n",
        "Again, we are only using 'Train' for this data exercise.\n",
        "\n",
        "**Data Munging Steps**\n",
        "1. Take in data \n",
        "2. Serialize data (create an id for each store, dept combination)\n",
        "3. Split data set by 'forecastable' and not - Training data contain 143 weekly observations. Some store, dept combinations (series) however do not contain nearly enough (less that 52 weeks) of data to forecast. These series, will be thrown into a simple forecast set (simple_forecast). The forecast for these series will be a simple mean"
      ]
    },
    {
      "cell_type": "code",
      "execution_count": 73,
      "metadata": {
        "colab": {
          "base_uri": "https://localhost:8080/",
          "height": 73,
          "resources": {
            "http://localhost:8080/nbextensions/google.colab/files.js": {
              "data": "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",
              "headers": [
                [
                  "content-type",
                  "application/javascript"
                ]
              ],
              "ok": true,
              "status": 200,
              "status_text": ""
            }
          }
        },
        "id": "qqvOBUyG8nDp",
        "outputId": "b9cc4a08-500d-42fc-c709-2259cc580044"
      },
      "outputs": [
        {
          "data": {
            "text/html": [
              "\n",
              "     <input type=\"file\" id=\"files-58aeea40-df6e-4db1-855a-48795d434c1c\" name=\"files[]\" multiple disabled\n",
              "        style=\"border:none\" />\n",
              "     <output id=\"result-58aeea40-df6e-4db1-855a-48795d434c1c\">\n",
              "      Upload widget is only available when the cell has been executed in the\n",
              "      current browser session. Please rerun this cell to enable.\n",
              "      </output>\n",
              "      <script src=\"/nbextensions/google.colab/files.js\"></script> "
            ],
            "text/plain": [
              "<IPython.core.display.HTML object>"
            ]
          },
          "metadata": {},
          "output_type": "display_data"
        },
        {
          "name": "stdout",
          "output_type": "stream",
          "text": [
            "Saving train.csv to train (1).csv\n"
          ]
        }
      ],
      "source": [
        "uploaded = files.upload()"
      ]
    },
    {
      "cell_type": "code",
      "execution_count": 76,
      "metadata": {
        "id": "mol0V3jp8mp4"
      },
      "outputs": [],
      "source": [
        "df_train = pd.read_csv(io.BytesIO(uploaded['train.csv']))"
      ]
    },
    {
      "cell_type": "markdown",
      "metadata": {
        "id": "3vIMEU1pEOi0"
      },
      "source": [
        "#### Serialize the data<br>\n",
        "This will allow us later to loop through ids to generate forecasts"
      ]
    },
    {
      "cell_type": "code",
      "execution_count": 85,
      "metadata": {
        "id": "vWWpuQ69EQiW"
      },
      "outputs": [],
      "source": [
        "# create a unique set of store, dept combinations, create a range\n",
        "comb = df_train[['Store','Dept']].drop_duplicates().reset_index().copy()\n",
        "comb['ts_id'] = pd.Series(range(comb.shape[0]))"
      ]
    },
    {
      "cell_type": "code",
      "execution_count": 86,
      "metadata": {
        "id": "GL6WoMhiEZvS"
      },
      "outputs": [],
      "source": [
        "# merge comb set with train\n",
        "df_train = df_train.merge(comb.drop(['index'],axis=1),how='inner',on=['Store','Dept'])"
      ]
    },
    {
      "cell_type": "code",
      "execution_count": 11,
      "metadata": {
        "colab": {
          "base_uri": "https://localhost:8080/",
          "height": 206
        },
        "id": "jGY_lR3iEvc0",
        "outputId": "cf2a9de9-bc28-4109-e71c-dec79dd5168e"
      },
      "outputs": [
        {
          "data": {
            "text/html": [
              "<div>\n",
              "<style scoped>\n",
              "    .dataframe tbody tr th:only-of-type {\n",
              "        vertical-align: middle;\n",
              "    }\n",
              "\n",
              "    .dataframe tbody tr th {\n",
              "        vertical-align: top;\n",
              "    }\n",
              "\n",
              "    .dataframe thead th {\n",
              "        text-align: right;\n",
              "    }\n",
              "</style>\n",
              "<table border=\"1\" class=\"dataframe\">\n",
              "  <thead>\n",
              "    <tr style=\"text-align: right;\">\n",
              "      <th></th>\n",
              "      <th>Store</th>\n",
              "      <th>Dept</th>\n",
              "      <th>Date</th>\n",
              "      <th>Weekly_Sales</th>\n",
              "      <th>IsHoliday</th>\n",
              "      <th>ts_id</th>\n",
              "    </tr>\n",
              "  </thead>\n",
              "  <tbody>\n",
              "    <tr>\n",
              "      <th>0</th>\n",
              "      <td>1</td>\n",
              "      <td>1</td>\n",
              "      <td>2010-02-05</td>\n",
              "      <td>24924.50</td>\n",
              "      <td>False</td>\n",
              "      <td>0</td>\n",
              "    </tr>\n",
              "    <tr>\n",
              "      <th>1</th>\n",
              "      <td>1</td>\n",
              "      <td>1</td>\n",
              "      <td>2010-02-12</td>\n",
              "      <td>46039.49</td>\n",
              "      <td>True</td>\n",
              "      <td>0</td>\n",
              "    </tr>\n",
              "    <tr>\n",
              "      <th>2</th>\n",
              "      <td>1</td>\n",
              "      <td>1</td>\n",
              "      <td>2010-02-19</td>\n",
              "      <td>41595.55</td>\n",
              "      <td>False</td>\n",
              "      <td>0</td>\n",
              "    </tr>\n",
              "    <tr>\n",
              "      <th>3</th>\n",
              "      <td>1</td>\n",
              "      <td>1</td>\n",
              "      <td>2010-02-26</td>\n",
              "      <td>19403.54</td>\n",
              "      <td>False</td>\n",
              "      <td>0</td>\n",
              "    </tr>\n",
              "    <tr>\n",
              "      <th>4</th>\n",
              "      <td>1</td>\n",
              "      <td>1</td>\n",
              "      <td>2010-03-05</td>\n",
              "      <td>21827.90</td>\n",
              "      <td>False</td>\n",
              "      <td>0</td>\n",
              "    </tr>\n",
              "  </tbody>\n",
              "</table>\n",
              "</div>"
            ],
            "text/plain": [
              "   Store  Dept        Date  Weekly_Sales  IsHoliday  ts_id\n",
              "0      1     1  2010-02-05      24924.50      False      0\n",
              "1      1     1  2010-02-12      46039.49       True      0\n",
              "2      1     1  2010-02-19      41595.55      False      0\n",
              "3      1     1  2010-02-26      19403.54      False      0\n",
              "4      1     1  2010-03-05      21827.90      False      0"
            ]
          },
          "execution_count": 11,
          "metadata": {},
          "output_type": "execute_result"
        }
      ],
      "source": [
        "df_train.head()"
      ]
    },
    {
      "cell_type": "markdown",
      "metadata": {
        "id": "odvHRwotBio_"
      },
      "source": [
        "#### Split Forecast dataset <br>\n",
        "- Remove series that don't have data for last 6 months\n",
        "- Remove series that don't have at least 52 weeks of data"
      ]
    },
    {
      "cell_type": "code",
      "execution_count": 87,
      "metadata": {
        "id": "qG44KiGGCSWZ"
      },
      "outputs": [],
      "source": [
        "end_date = df_train.groupby('ts_id').Date.max().reset_index()"
      ]
    },
    {
      "cell_type": "code",
      "execution_count": 88,
      "metadata": {
        "colab": {
          "base_uri": "https://localhost:8080/",
          "height": 206
        },
        "id": "m5doao-sT95i",
        "outputId": "bdd6039a-315c-4641-904e-ec4bc94a8e90"
      },
      "outputs": [
        {
          "data": {
            "text/html": [
              "<div>\n",
              "<style scoped>\n",
              "    .dataframe tbody tr th:only-of-type {\n",
              "        vertical-align: middle;\n",
              "    }\n",
              "\n",
              "    .dataframe tbody tr th {\n",
              "        vertical-align: top;\n",
              "    }\n",
              "\n",
              "    .dataframe thead th {\n",
              "        text-align: right;\n",
              "    }\n",
              "</style>\n",
              "<table border=\"1\" class=\"dataframe\">\n",
              "  <thead>\n",
              "    <tr style=\"text-align: right;\">\n",
              "      <th></th>\n",
              "      <th>ts_id</th>\n",
              "      <th>count</th>\n",
              "      <th>max_date</th>\n",
              "    </tr>\n",
              "  </thead>\n",
              "  <tbody>\n",
              "    <tr>\n",
              "      <th>1158</th>\n",
              "      <td>1219</td>\n",
              "      <td>1</td>\n",
              "      <td>2012-07-06</td>\n",
              "    </tr>\n",
              "    <tr>\n",
              "      <th>1084</th>\n",
              "      <td>1143</td>\n",
              "      <td>1</td>\n",
              "      <td>2012-07-20</td>\n",
              "    </tr>\n",
              "    <tr>\n",
              "      <th>2556</th>\n",
              "      <td>2698</td>\n",
              "      <td>1</td>\n",
              "      <td>2012-08-17</td>\n",
              "    </tr>\n",
              "    <tr>\n",
              "      <th>2574</th>\n",
              "      <td>2717</td>\n",
              "      <td>1</td>\n",
              "      <td>2012-07-13</td>\n",
              "    </tr>\n",
              "    <tr>\n",
              "      <th>1232</th>\n",
              "      <td>1295</td>\n",
              "      <td>1</td>\n",
              "      <td>2012-10-05</td>\n",
              "    </tr>\n",
              "  </tbody>\n",
              "</table>\n",
              "</div>"
            ],
            "text/plain": [
              "      ts_id  count    max_date\n",
              "1158   1219      1  2012-07-06\n",
              "1084   1143      1  2012-07-20\n",
              "2556   2698      1  2012-08-17\n",
              "2574   2717      1  2012-07-13\n",
              "1232   1295      1  2012-10-05"
            ]
          },
          "execution_count": 88,
          "metadata": {},
          "output_type": "execute_result"
        }
      ],
      "source": [
        "discard1 = end_date[end_date.Date < '2012-04-26']['ts_id'].values\n",
        "df_train_trim = df_train[~df_train.ts_id.isin(discard1)]\n",
        "# count # of observations by series\n",
        "ts_data = df_train_trim.groupby('ts_id').agg({'Weekly_Sales':'count','Date':'max'}).reset_index()\n",
        "ts_data.columns = ['ts_id','count','max_date']\n",
        "ts_data.sort_values('count').head()"
      ]
    },
    {
      "cell_type": "code",
      "execution_count": 89,
      "metadata": {
        "id": "BMiYPQi_VKvl"
      },
      "outputs": [],
      "source": [
        "discard2 =ts_data[ts_data['count'] < 52]['ts_id'].values"
      ]
    },
    {
      "cell_type": "code",
      "execution_count": 90,
      "metadata": {
        "id": "4ujfCJdfVKvm"
      },
      "outputs": [],
      "source": [
        "# second discard\n",
        "df_train_trim = df_train_trim[~df_train_trim.ts_id.isin(discard2)]\n"
      ]
    },
    {
      "cell_type": "code",
      "execution_count": 91,
      "metadata": {
        "colab": {
          "base_uri": "https://localhost:8080/"
        },
        "id": "b54hhNcPAQRQ",
        "outputId": "e1be611b-c1eb-4453-8001-dfa06a0f505f"
      },
      "outputs": [
        {
          "name": "stderr",
          "output_type": "stream",
          "text": [
            "/usr/local/lib/python3.7/dist-packages/pandas/core/generic.py:5170: SettingWithCopyWarning: \n",
            "A value is trying to be set on a copy of a slice from a DataFrame.\n",
            "Try using .loc[row_indexer,col_indexer] = value instead\n",
            "\n",
            "See the caveats in the documentation: https://pandas.pydata.org/pandas-docs/stable/user_guide/indexing.html#returning-a-view-versus-a-copy\n",
            "  self[name] = value\n"
          ]
        }
      ],
      "source": [
        "#change \n",
        "df_train_trim.Date = pd.to_datetime(df_train_trim.Date)\n"
      ]
    },
    {
      "cell_type": "code",
      "execution_count": 92,
      "metadata": {
        "id": "0NKB18M3NFID"
      },
      "outputs": [],
      "source": [
        "# ts_data = df_train_trim.groupby('ts_id').agg({'Weekly_Sales':'count','Date':'max'}).reset_index()\n",
        "# ts_data.columns = ['ts_id','count','max_date']\n",
        "# ts_data.sort_values('count').head()"
      ]
    },
    {
      "cell_type": "code",
      "execution_count": 93,
      "metadata": {
        "colab": {
          "base_uri": "https://localhost:8080/"
        },
        "id": "hFXyrtos-h4Q",
        "outputId": "b8d7793a-8bc2-4134-8973-48b88222cab4"
      },
      "outputs": [
        {
          "name": "stderr",
          "output_type": "stream",
          "text": [
            "/usr/local/lib/python3.7/dist-packages/pandas/core/generic.py:5170: SettingWithCopyWarning: \n",
            "A value is trying to be set on a copy of a slice from a DataFrame.\n",
            "Try using .loc[row_indexer,col_indexer] = value instead\n",
            "\n",
            "See the caveats in the documentation: https://pandas.pydata.org/pandas-docs/stable/user_guide/indexing.html#returning-a-view-versus-a-copy\n",
            "  self[name] = value\n"
          ]
        }
      ],
      "source": [
        "# this list will be saved for latter. These series will be forecasted \n",
        "# with a very simple mean calculation\n",
        "discard = np.append(discard1,discard2,axis=0)\n",
        "simple_forecast = df_train[df_train.ts_id.isin(discard)]\n",
        "simple_forecast.Date = pd.to_datetime(simple_forecast.Date)"
      ]
    },
    {
      "cell_type": "code",
      "execution_count": 94,
      "metadata": {
        "colab": {
          "base_uri": "https://localhost:8080/"
        },
        "id": "3mlllwQv-6ts",
        "outputId": "9a71d26e-275d-4f36-8825-92177d8289eb"
      },
      "outputs": [
        {
          "data": {
            "text/plain": [
              "Store                    int64\n",
              "Dept                     int64\n",
              "Date            datetime64[ns]\n",
              "Weekly_Sales           float64\n",
              "IsHoliday                 bool\n",
              "ts_id                    int64\n",
              "dtype: object"
            ]
          },
          "execution_count": 94,
          "metadata": {},
          "output_type": "execute_result"
        }
      ],
      "source": [
        "simple_forecast.dtypes"
      ]
    },
    {
      "cell_type": "code",
      "execution_count": 125,
      "metadata": {
        "colab": {
          "base_uri": "https://localhost:8080/"
        },
        "id": "ddl0wCdl_y6z",
        "outputId": "6cd266b9-2695-4ed0-ee06-3241e03ecc18"
      },
      "outputs": [
        {
          "name": "stdout",
          "output_type": "stream",
          "text": [
            "CPU times: user 1min 36s, sys: 2.76 s, total: 1min 38s\n",
            "Wall time: 1min 33s\n"
          ]
        }
      ],
      "source": [
        "# Fill remaining dates with zeros\n",
        "%%time\n",
        "date_field = pd.date_range(start=df_train.Date.min(),end=df_train.Date.max(),closed=None,freq='W-FRI')\n",
        "date_field = pd.DataFrame(date_field)\n",
        "date_field.columns = ['Date']\n",
        "df_ready = fill_blanks(df_train_trim,'ts_id',date_field,'Weekly_Sales','Date')"
      ]
    },
    {
      "cell_type": "code",
      "execution_count": 126,
      "metadata": {
        "colab": {
          "base_uri": "https://localhost:8080/"
        },
        "id": "5y43ym2nwfhZ",
        "outputId": "ec7ef2d9-d972-4607-f427-0a4c0bd07b2b"
      },
      "outputs": [
        {
          "data": {
            "text/plain": [
              "(2983,)"
            ]
          },
          "execution_count": 126,
          "metadata": {},
          "output_type": "execute_result"
        }
      ],
      "source": [
        "df_ready.ts_id.unique().shape"
      ]
    },
    {
      "cell_type": "markdown",
      "metadata": {
        "id": "q89iOw8IZ-EV"
      },
      "source": [
        "## Nbeats Implementation"
      ]
    },
    {
      "cell_type": "markdown",
      "metadata": {
        "id": "a9dpinha6W6o"
      },
      "source": [
        "### Model Configuration"
      ]
    },
    {
      "cell_type": "code",
      "execution_count": 127,
      "metadata": {
        "id": "ocg2mZ74uFXh"
      },
      "outputs": [],
      "source": [
        "# Create NBeatsBlock custom layer \n",
        "# for custom DNN, using tensorflow subclassing\n",
        "\n",
        "class NBeatsBlock(tf.keras.layers.Layer):\n",
        "  def __init__(self, # the constructor takes all the hyperparameters for the layer\n",
        "               input_size: int,\n",
        "#               theta_size: int = ,\n",
        "               horizon: int,\n",
        "               n_neurons: int,\n",
        "               n_layers: int =4,\n",
        "               **kwargs): # the **kwargs argument takes care of all of the arguments for the parent class (input_shape, trainable, name)\n",
        "    super().__init__(**kwargs)\n",
        "    self.input_size = input_size\n",
        "    self.horizon = horizon\n",
        "    self.theta_size = self.input_size + self.horizon\n",
        "\n",
        "    self.n_neurons = n_neurons\n",
        "    self.n_layers = n_layers\n",
        "\n",
        "    # Block contains stack of 4 fully connected layers each has ReLU activation\n",
        "    self.hidden = [tf.keras.layers.Dense(n_neurons, activation=\"relu\") for _ in range(n_layers)]\n",
        "    # Output of block is a theta layer with linear activation\n",
        "    self.theta_layer = tf.keras.layers.Dense(self.theta_size, activation=\"linear\", name=\"theta\")\n",
        "\n",
        "  def call(self, inputs): # the call method is what runs when the layer is called \n",
        "    x = inputs \n",
        "    for layer in self.hidden: # pass inputs through each hidden layer \n",
        "      x = layer(x)\n",
        "    theta = self.theta_layer(x) \n",
        "    # Output the backcast and forecast from theta\n",
        "    backcast, forecast = theta[:, :self.input_size], theta[:, -self.horizon:]\n",
        "    return backcast, forecast"
      ]
    },
    {
      "cell_type": "markdown",
      "metadata": {
        "id": "SiS8BVKuEtEt"
      },
      "source": [
        "**Training data for N-BEATS**<br>\n",
        " Setting up training data for a deep learning model is more involved. This is done by using a sliding window, with fixed segments for training and label data. The label data represents the forecast horizon. For this research I began by slicing each series which contained 143 observations into segments of 120, each with 80 observations for training and 40 for labels. This was a convenient split as the prediction horizon was 39."
      ]
    },
    {
      "cell_type": "markdown",
      "metadata": {
        "id": "69lDg7_1EcUx"
      },
      "source": [
        "![windowing](windowing.png)"
      ]
    },
    {
      "cell_type": "code",
      "execution_count": 128,
      "metadata": {
        "id": "-xJnioiQ4jn0"
      },
      "outputs": [],
      "source": [
        "window = 80\n",
        "horizon = 40"
      ]
    },
    {
      "cell_type": "code",
      "execution_count": 129,
      "metadata": {
        "colab": {
          "base_uri": "https://localhost:8080/"
        },
        "id": "7TY0z7cGEOGn",
        "outputId": "fc630439-9f26-46c8-efc0-3c8a8c485375"
      },
      "outputs": [
        {
          "data": {
            "text/plain": [
              "(80, 120)"
            ]
          },
          "execution_count": 129,
          "metadata": {},
          "output_type": "execute_result"
        }
      ],
      "source": [
        "# Values from N-BEATS paper Figure 1 and Table 18/Appendix D\n",
        "epochs = 5000 # called \"Iterations\" in Table 18\n",
        "neurons = 512 # called \"Width\" in Table 18\n",
        "block_layers = 4\n",
        "stacks = 30\n",
        "batch = 1024\n",
        "\n",
        "input_size = window # This should be a multiple of the horizon size.\n",
        "theta_size = input_size + horizon\n",
        "\n",
        "input_size, theta_size"
      ]
    },
    {
      "cell_type": "markdown",
      "metadata": {
        "id": "Yub6wR4162fA"
      },
      "source": [
        "### Data Pipeline\n",
        "1. For every series, there will be samples generated that include\n",
        "- featuers of size window\n",
        "- & labels of size horizon\n",
        "2. Then, the sampled data recoreds will be split into training and validation.\n",
        "3. Then grab the final 'window' number of samples (for example 80) and use this to make final prediction.<br>\n",
        "  - make sure prediction dates match the expected date range on submission file.\n",
        "4. Save this prediction   "
      ]
    },
    {
      "cell_type": "markdown",
      "metadata": {},
      "source": [
        "![architecture](nbeats_architecture.png)"
      ]
    },
    {
      "cell_type": "markdown",
      "metadata": {
        "id": "SPnE9yzC__7U"
      },
      "source": [
        "### Model Build out"
      ]
    },
    {
      "cell_type": "code",
      "execution_count": 130,
      "metadata": {
        "colab": {
          "base_uri": "https://localhost:8080/"
        },
        "id": "xPzv1gtRpAN8",
        "outputId": "ee2b287f-3043-4508-b68f-7b2aa5c533fc"
      },
      "outputs": [
        {
          "name": "stdout",
          "output_type": "stream",
          "text": [
            "CPU times: user 5 µs, sys: 0 ns, total: 5 µs\n",
            "Wall time: 8.58 µs\n"
          ]
        }
      ],
      "source": [
        "%%time\n",
        "def model_build():\n",
        "  tf.random.set_seed(48)\n",
        "\n",
        "  # Initialize N-BEATS Block layer [ block 1]\n",
        "  nbeats_block_layer = NBeatsBlock(input_size=input_size,\n",
        "                                  horizon=horizon,\n",
        "                                  n_neurons=neurons,\n",
        "                                  n_layers=block_layers,\n",
        "                                  name=\"Block_1\")\n",
        "\n",
        "  # 2. Create input to stacks\n",
        "  stack_input = layers.Input(shape=(input_size), name=\"stack_input\")\n",
        "\n",
        "  # 3. Create initial backcast and forecast input (backwards predictions are referred to as residuals in the paper)\n",
        "  backcast, forecast = nbeats_block_layer(stack_input)\n",
        "  # Add in subtraction residual link, thank you to: https://github.com/mrdbourke/tensorflow-deep-learning/discussions/174 \n",
        "  residuals = layers.subtract([stack_input, backcast], name=f\"subtract_00\") \n",
        "\n",
        "  # 4. Create stacks of blocks\n",
        "  for i, _ in enumerate(range(stacks-1)): # generate all stacks after the first\n",
        "\n",
        "    # 5. Use the NBeatsBlock to calculate the backcast as well as block forecast\n",
        "    backcast, block_forecast = NBeatsBlock(\n",
        "        input_size=input_size,\n",
        "        horizon=horizon,\n",
        "        n_neurons=neurons,\n",
        "        n_layers=block_layers,\n",
        "        name=f\"NBeatsBlock_{i}\"\n",
        "    )(residuals) \n",
        "\n",
        "    # 6. Create the double residual stacking\n",
        "    residuals = layers.subtract([residuals, backcast], name=f\"subtract_{i}\") \n",
        "    forecast = layers.add([forecast, block_forecast], name=f\"add_{i}\")\n",
        "  return nbeats_block_layer, stack_input, backcast, forecast,residuals"
      ]
    },
    {
      "cell_type": "code",
      "execution_count": 131,
      "metadata": {
        "id": "2CA6fuSCLCml"
      },
      "outputs": [],
      "source": [
        "nbeats_block_layer, stack_input, backcast, forecast,residuals = model_build()"
      ]
    },
    {
      "cell_type": "markdown",
      "metadata": {
        "id": "HfIsiZnkNnlt"
      },
      "source": [
        "### Data Build"
      ]
    },
    {
      "cell_type": "code",
      "execution_count": 132,
      "metadata": {
        "id": "HOll3omGmouJ"
      },
      "outputs": [],
      "source": [
        "def data_build():\n",
        "  x, y = [],[]\n",
        "  ffeat = dict()  # final prediction features\n",
        "\n",
        "  for series in df_ready.ts_id.unique():\n",
        "    eval = []\n",
        "    temp = df_ready[df_ready.ts_id == series].copy()\n",
        "    ser = change_shape(temp)\n",
        "    #ser_scaled = scaler.fit_transform(ser) \n",
        "    ffeat[series] = ser[-window:]\n",
        "    #ser_scaled[-window:] # this wil be theseries to make final predictions\n",
        "    # create two sets of x and y. THe second will be used to generate the true \n",
        "    # values to calculate MAE\n",
        "    ## check if first series, if not append.\n",
        "    if len(x) > 0: # check only scaled, assume it same for both\n",
        "      #x_temp_scaled, y_temp_scaled = window_gen(ser_scaled,window,horizon)\n",
        "      x_temp, y_temp = window_gen(ser,window,horizon)\n",
        "      # non scaled arrays\n",
        "      for x_array in x_temp:\n",
        "        x.append(x_array)\n",
        "      for y_array in y_temp:\n",
        "        y.append(y_array)\n",
        "    else: \n",
        "      x, y = window_gen(ser,window,horizon)\n",
        "  return x,y,ffeat"
      ]
    },
    {
      "cell_type": "code",
      "execution_count": 133,
      "metadata": {
        "id": "nzDgNccVP3a6"
      },
      "outputs": [],
      "source": [
        "x,y,ffeat = data_build()"
      ]
    },
    {
      "cell_type": "code",
      "execution_count": 134,
      "metadata": {
        "colab": {
          "base_uri": "https://localhost:8080/"
        },
        "id": "-OLvCFO4wNKy",
        "outputId": "2c501b1b-d0be-42b4-8bc7-f4d76889a7c3"
      },
      "outputs": [
        {
          "data": {
            "text/plain": [
              "68609"
            ]
          },
          "execution_count": 134,
          "metadata": {},
          "output_type": "execute_result"
        }
      ],
      "source": [
        "len(x)"
      ]
    },
    {
      "cell_type": "code",
      "execution_count": 135,
      "metadata": {
        "id": "BoSJw9dynAkr"
      },
      "outputs": [],
      "source": [
        "def data_split():\n",
        "  split_size = int(len(x) * 0.8)\n",
        "  # x_train, y_train = x_scaled[:split_size], y_scaled[:split_size]\n",
        "  # x_valid, y_valid = x_scaled[split_size:], y_scaled[split_size:]\n",
        "  x_train, y_train = x[:split_size], y[:split_size]\n",
        "  x_valid, y_valid = x[split_size:], y[split_size:]\n",
        "\n",
        "  # line below is redudant, but keeping it to not change references\n",
        "  x_valid_true, y_valid_true = x[split_size:], y[split_size:]\n",
        "  train_ds,valid_ds =  dataset(x_train,y_train,x_valid,y_valid,batch)\n",
        "  return train_ds,valid_ds, y_valid_true"
      ]
    },
    {
      "cell_type": "code",
      "execution_count": 136,
      "metadata": {
        "id": "qsWTTaOkQGNw"
      },
      "outputs": [],
      "source": [
        "train_ds,valid_ds, y_valid_true = data_split()"
      ]
    },
    {
      "cell_type": "code",
      "execution_count": 137,
      "metadata": {
        "id": "iEbA0Culnfdh"
      },
      "outputs": [],
      "source": [
        "def model_create():\n",
        "  # Put the stack model together\n",
        "  model = tf.keras.Model(inputs=stack_input, \n",
        "                        outputs=forecast, \n",
        "                        name=\"model_N-BEATS\")\n",
        "\n",
        "  # 8. Compile with MAE loss and Adam optimizer\n",
        "  model.compile(loss=\"mae\",\n",
        "                optimizer=tf.keras.optimizers.Adam(0.001),\n",
        "                metrics=[\"mae\", \"mse\"])\n",
        "  return model"
      ]
    },
    {
      "cell_type": "code",
      "execution_count": 138,
      "metadata": {
        "id": "1yC9HqoRQO0e"
      },
      "outputs": [],
      "source": [
        "model = model_create()"
      ]
    },
    {
      "cell_type": "markdown",
      "metadata": {
        "id": "3sMckLH5N0H9"
      },
      "source": [
        "### Model fit"
      ]
    },
    {
      "cell_type": "code",
      "execution_count": 139,
      "metadata": {
        "colab": {
          "base_uri": "https://localhost:8080/"
        },
        "id": "jjy_sfX3Nv4_",
        "outputId": "4f887024-1f32-4376-d4b8-201efd265afd"
      },
      "outputs": [
        {
          "name": "stdout",
          "output_type": "stream",
          "text": [
            "\n",
            "Epoch 00142: ReduceLROnPlateau reducing learning rate to 0.00010000000474974513.\n",
            "\n",
            "Epoch 00265: ReduceLROnPlateau reducing learning rate to 1.0000000474974514e-05.\n",
            "\n",
            "Epoch 00365: ReduceLROnPlateau reducing learning rate to 1.0000000656873453e-06.\n",
            "CPU times: user 15min 27s, sys: 16.4 s, total: 15min 43s\n",
            "Wall time: 17min 45s\n"
          ]
        }
      ],
      "source": [
        "%%time\n",
        "history = model.fit(train_ds,\n",
        "            epochs=epochs,\n",
        "            validation_data=valid_ds,\n",
        "            verbose=0, # prevent large amounts of training outputs\n",
        "            # callbacks=[create_model_checkpoint(model_name=stack_model.name)] # saving model every epoch consumes far too much time\n",
        "            callbacks=[tf.keras.callbacks.EarlyStopping(monitor=\"val_loss\", patience=200, restore_best_weights=True) \n",
        "              ,tf.keras.callbacks.ReduceLROnPlateau(monitor=\"val_loss\", patience=100, verbose=1)\n",
        "                      ])"
      ]
    },
    {
      "cell_type": "markdown",
      "metadata": {
        "id": "MjnXAMZiRFXy"
      },
      "source": [
        "**Performance**"
      ]
    },
    {
      "cell_type": "code",
      "execution_count": 140,
      "metadata": {
        "colab": {
          "base_uri": "https://localhost:8080/"
        },
        "id": "Pc1HsJZcNv4_",
        "outputId": "d9cde790-32fc-4907-eae1-1a934c623008"
      },
      "outputs": [
        {
          "name": "stdout",
          "output_type": "stream",
          "text": [
            "14/14 [==============================] - 0s 20ms/step - loss: 1013.5490 - mae: 1013.5490 - mse: 4946314.5000\n"
          ]
        }
      ],
      "source": [
        "metrics = model.evaluate(valid_ds)"
      ]
    },
    {
      "cell_type": "code",
      "execution_count": 141,
      "metadata": {
        "id": "onhptwxCNv5A"
      },
      "outputs": [],
      "source": [
        "val_pred = model.predict(valid_ds)\n",
        "#val_pred = scaler.inverse_transform(val_pred)"
      ]
    },
    {
      "cell_type": "code",
      "execution_count": 142,
      "metadata": {
        "colab": {
          "base_uri": "https://localhost:8080/"
        },
        "id": "INr9vc-fNv5B",
        "outputId": "d828f366-c6f0-401d-f310-a6918d0aea6c"
      },
      "outputs": [
        {
          "name": "stdout",
          "output_type": "stream",
          "text": [
            "CPU times: user 4 s, sys: 218 ms, total: 4.22 s\n",
            "Wall time: 4.2 s\n"
          ]
        }
      ],
      "source": [
        "# builds the array for true values\n",
        "%%time \n",
        "empty = 1\n",
        "for array in y_valid_true:\n",
        "  if empty == 1:\n",
        "    Y_true = array.reshape(1,array.shape[0]).copy()\n",
        "    empty = 0\n",
        "  else:\n",
        "    Y_true = np.append(Y_true,array.reshape(1,array.shape[0]),axis=0)"
      ]
    },
    {
      "cell_type": "markdown",
      "metadata": {
        "id": "ZTsnan_8Nv5D"
      },
      "source": [
        "**Validation MAE**\n",
        "This is for validation set. So there will be 5 validation examples per series. There fore we will take the entire matrix of actual observations and compare to matrix of same size of predictions."
      ]
    },
    {
      "cell_type": "code",
      "execution_count": 143,
      "metadata": {
        "colab": {
          "base_uri": "https://localhost:8080/"
        },
        "id": "efWLFFvENv5D",
        "outputId": "3b5a0a4d-85ae-4e60-ee50-6fba0b550908"
      },
      "outputs": [
        {
          "data": {
            "text/plain": [
              "1013.5488527608821"
            ]
          },
          "execution_count": 143,
          "metadata": {},
          "output_type": "execute_result"
        }
      ],
      "source": [
        "#This is the weighte MAE for validation data \n",
        "np.absolute(Y_true - val_pred).mean()"
      ]
    },
    {
      "cell_type": "code",
      "execution_count": 145,
      "metadata": {
        "id": "o5T6xgniXF-8"
      },
      "outputs": [],
      "source": [
        "#losses = history.history['loss']\n",
        "mae = history.history['mae']\n",
        "#val_losses = history.history['val_loss']\n",
        "val_mae = history.history['val_mae']\n",
        "epochs = len(mae)"
      ]
    },
    {
      "cell_type": "code",
      "execution_count": 148,
      "metadata": {
        "colab": {
          "base_uri": "https://localhost:8080/",
          "height": 335
        },
        "id": "1jiCXnqfXF-9",
        "outputId": "c7dd7978-2d8d-4809-e6d7-648239c3d2cf"
      },
      "outputs": [
        {
          "data": {
            "image/png": "[encoded data removed]",
            "text/plain": [
              "<Figure size 1080x360 with 1 Axes>"
            ]
          },
          "metadata": {
            "needs_background": "light"
          },
          "output_type": "display_data"
        }
      ],
      "source": [
        "fig = plt.figure(figsize=(15, 5))\n",
        "ax2 = fig.add_subplot()\n",
        "ax2.plot(range(epochs), mae, label='Training MAE')\n",
        "ax2.plot(range(epochs), val_mae, label='Validation MAE')\n",
        "ax2.set_title('MAE')\n",
        "ax2.legend()\n",
        "plt.show()"
      ]
    },
    {
      "cell_type": "markdown",
      "metadata": {
        "id": "cWmq6e18Nv5E"
      },
      "source": [
        "### Generate Final Prediction File\n",
        "\n",
        "There are 3 steps to this process:<br>\n",
        "1. Put prediction from N-BEATS model in to a dataframe\n",
        "2. Make a simple prediction for simple_forecast data frame\n",
        "3. Identify stores/dept combinations in test dataset, not in training*\n",
        "\n",
        "**There area series in the test data that are not in training. For this excercise we are setting these prediction to 0. Likely a better approach is to use a imputation methodology to estimate those sales.*"
      ]
    },
    {
      "cell_type": "markdown",
      "metadata": {
        "id": "SNEKl2Dy4PkC"
      },
      "source": [
        "**Upload Test Prediction File**"
      ]
    },
    {
      "cell_type": "code",
      "execution_count": 151,
      "metadata": {
        "colab": {
          "base_uri": "https://localhost:8080/",
          "height": 73,
          "resources": {
            "http://localhost:8080/nbextensions/google.colab/files.js": {
              "data": "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",
              "headers": [
                [
                  "content-type",
                  "application/javascript"
                ]
              ],
              "ok": true,
              "status": 200,
              "status_text": ""
            }
          }
        },
        "id": "nEFjHttN4OtT",
        "outputId": "d2eeea3c-aea2-450f-cb91-9c19650a6f1f"
      },
      "outputs": [
        {
          "data": {
            "text/html": [
              "\n",
              "     <input type=\"file\" id=\"files-4f05c70e-f4c6-4e8f-8181-c3d446d64eab\" name=\"files[]\" multiple disabled\n",
              "        style=\"border:none\" />\n",
              "     <output id=\"result-4f05c70e-f4c6-4e8f-8181-c3d446d64eab\">\n",
              "      Upload widget is only available when the cell has been executed in the\n",
              "      current browser session. Please rerun this cell to enable.\n",
              "      </output>\n",
              "      <script src=\"/nbextensions/google.colab/files.js\"></script> "
            ],
            "text/plain": [
              "<IPython.core.display.HTML object>"
            ]
          },
          "metadata": {},
          "output_type": "display_data"
        },
        {
          "name": "stdout",
          "output_type": "stream",
          "text": [
            "Saving test.csv to test.csv\n"
          ]
        }
      ],
      "source": [
        "uploaded = files.upload()"
      ]
    },
    {
      "cell_type": "code",
      "execution_count": 152,
      "metadata": {
        "id": "FWLZkrLu4OtU"
      },
      "outputs": [],
      "source": [
        "df_test = pd.read_csv(io.BytesIO(uploaded['test.csv']))"
      ]
    },
    {
      "cell_type": "code",
      "execution_count": 195,
      "metadata": {
        "id": "K2tG1wJgGD7Y"
      },
      "outputs": [],
      "source": [
        "df_test.Date = pd.to_datetime(df_test.Date)"
      ]
    },
    {
      "cell_type": "code",
      "execution_count": 153,
      "metadata": {
        "id": "aNwxFxjLNv5E"
      },
      "outputs": [],
      "source": [
        "date_series = pd.date_range(start=df_ready.Date.max(),periods=40,freq='W-FRI',closed='right')"
      ]
    },
    {
      "cell_type": "code",
      "execution_count": 154,
      "metadata": {
        "colab": {
          "base_uri": "https://localhost:8080/"
        },
        "id": "WS8enaZtNv5E",
        "outputId": "f795f018-77d8-45f6-c771-17c7fe4dfa86"
      },
      "outputs": [
        {
          "name": "stdout",
          "output_type": "stream",
          "text": [
            "CPU times: user 2min 50s, sys: 6.34 s, total: 2min 56s\n",
            "Wall time: 2min 46s\n"
          ]
        }
      ],
      "source": [
        "%%time\n",
        "temp = []\n",
        "for key in ffeat:\n",
        "  # if key > 5:\n",
        "  #   break\n",
        "  #print('key is',key)\n",
        "  test = ffeat[key]\n",
        "  test = test.reshape(1,test.shape[0],1)\n",
        "  pred = model.predict(test)\n",
        "#  pred = scaler.inverse_transform(pred)\n",
        "  pred = pred[:,:39][0]\n",
        "  store = df_ready[df_ready.ts_id == key].iloc[:39,0]\n",
        "  dpt = df_ready[df_ready.ts_id == key].iloc[:39,1]\n",
        "  holiday = df_test[['Date','IsHoliday']].drop_duplicates().sort_values('Date')['IsHoliday']\n",
        "  for i in range(39):\n",
        "    temp.append({'Store':store.iloc[i],'Dept':dpt.iloc[i],'Date':date_series[i],'IsHoliday':holiday.iloc[i],'Weekly_Sales':pred[i]})"
      ]
    },
    {
      "cell_type": "markdown",
      "metadata": {
        "id": "j22aVLgi7qMp"
      },
      "source": [
        "**Put into required format**"
      ]
    },
    {
      "cell_type": "code",
      "execution_count": 156,
      "metadata": {
        "id": "VwYSfRAL7Kxp"
      },
      "outputs": [],
      "source": [
        "df_pred1 = pd.DataFrame(temp)"
      ]
    },
    {
      "cell_type": "markdown",
      "metadata": {
        "id": "P3OQalRw-94W"
      },
      "source": [
        "**Handle simple forecast**"
      ]
    },
    {
      "cell_type": "code",
      "execution_count": 157,
      "metadata": {
        "id": "5pHE2-5zNv5F"
      },
      "outputs": [],
      "source": [
        "fcast_array = simple_forecast.groupby('ts_id').Weekly_Sales.mean().reset_index()"
      ]
    },
    {
      "cell_type": "code",
      "execution_count": 158,
      "metadata": {
        "colab": {
          "base_uri": "https://localhost:8080/",
          "height": 206
        },
        "id": "jllsPGd8Nv5F",
        "outputId": "2c32c4ad-d798-483c-edd3-28bcc3dd83c5"
      },
      "outputs": [
        {
          "data": {
            "text/html": [
              "<div>\n",
              "<style scoped>\n",
              "    .dataframe tbody tr th:only-of-type {\n",
              "        vertical-align: middle;\n",
              "    }\n",
              "\n",
              "    .dataframe tbody tr th {\n",
              "        vertical-align: top;\n",
              "    }\n",
              "\n",
              "    .dataframe thead th {\n",
              "        text-align: right;\n",
              "    }\n",
              "</style>\n",
              "<table border=\"1\" class=\"dataframe\">\n",
              "  <thead>\n",
              "    <tr style=\"text-align: right;\">\n",
              "      <th></th>\n",
              "      <th>ts_id</th>\n",
              "      <th>Weekly_Sales</th>\n",
              "    </tr>\n",
              "  </thead>\n",
              "  <tbody>\n",
              "    <tr>\n",
              "      <th>0</th>\n",
              "      <td>43</td>\n",
              "      <td>-116.454545</td>\n",
              "    </tr>\n",
              "    <tr>\n",
              "      <th>1</th>\n",
              "      <td>46</td>\n",
              "      <td>32.712727</td>\n",
              "    </tr>\n",
              "    <tr>\n",
              "      <th>2</th>\n",
              "      <td>58</td>\n",
              "      <td>677.000000</td>\n",
              "    </tr>\n",
              "    <tr>\n",
              "      <th>3</th>\n",
              "      <td>59</td>\n",
              "      <td>11.500000</td>\n",
              "    </tr>\n",
              "    <tr>\n",
              "      <th>4</th>\n",
              "      <td>76</td>\n",
              "      <td>306.091081</td>\n",
              "    </tr>\n",
              "  </tbody>\n",
              "</table>\n",
              "</div>"
            ],
            "text/plain": [
              "   ts_id  Weekly_Sales\n",
              "0     43   -116.454545\n",
              "1     46     32.712727\n",
              "2     58    677.000000\n",
              "3     59     11.500000\n",
              "4     76    306.091081"
            ]
          },
          "execution_count": 158,
          "metadata": {},
          "output_type": "execute_result"
        }
      ],
      "source": [
        "fcast_array.head()"
      ]
    },
    {
      "cell_type": "markdown",
      "metadata": {
        "id": "FiG60LPR_Gu-"
      },
      "source": [
        "There are some negative numbers. We need to clip these values"
      ]
    },
    {
      "cell_type": "code",
      "execution_count": 159,
      "metadata": {
        "id": "PTIRA40TJxsF"
      },
      "outputs": [],
      "source": [
        "#clip sales at 0 \n",
        "fcast_array.Weekly_Sales = np.clip(fcast_array.Weekly_Sales,a_min = 0,a_max=None)"
      ]
    },
    {
      "cell_type": "code",
      "execution_count": 175,
      "metadata": {
        "colab": {
          "base_uri": "https://localhost:8080/",
          "height": 206
        },
        "id": "Wt1DWR4HBDDR",
        "outputId": "2bf0e0a1-b9d8-4cb8-ab99-b24c565bde40"
      },
      "outputs": [
        {
          "data": {
            "text/html": [
              "<div>\n",
              "<style scoped>\n",
              "    .dataframe tbody tr th:only-of-type {\n",
              "        vertical-align: middle;\n",
              "    }\n",
              "\n",
              "    .dataframe tbody tr th {\n",
              "        vertical-align: top;\n",
              "    }\n",
              "\n",
              "    .dataframe thead th {\n",
              "        text-align: right;\n",
              "    }\n",
              "</style>\n",
              "<table border=\"1\" class=\"dataframe\">\n",
              "  <thead>\n",
              "    <tr style=\"text-align: right;\">\n",
              "      <th></th>\n",
              "      <th>Store</th>\n",
              "      <th>Dept</th>\n",
              "      <th>Date</th>\n",
              "      <th>Weekly_Sales</th>\n",
              "      <th>IsHoliday</th>\n",
              "      <th>ts_id</th>\n",
              "    </tr>\n",
              "  </thead>\n",
              "  <tbody>\n",
              "    <tr>\n",
              "      <th>6047</th>\n",
              "      <td>1</td>\n",
              "      <td>47</td>\n",
              "      <td>2010-02-05</td>\n",
              "      <td>70.0</td>\n",
              "      <td>False</td>\n",
              "      <td>43</td>\n",
              "    </tr>\n",
              "    <tr>\n",
              "      <th>6048</th>\n",
              "      <td>1</td>\n",
              "      <td>47</td>\n",
              "      <td>2010-02-19</td>\n",
              "      <td>-863.0</td>\n",
              "      <td>False</td>\n",
              "      <td>43</td>\n",
              "    </tr>\n",
              "    <tr>\n",
              "      <th>6049</th>\n",
              "      <td>1</td>\n",
              "      <td>47</td>\n",
              "      <td>2010-03-12</td>\n",
              "      <td>-698.0</td>\n",
              "      <td>False</td>\n",
              "      <td>43</td>\n",
              "    </tr>\n",
              "    <tr>\n",
              "      <th>6050</th>\n",
              "      <td>1</td>\n",
              "      <td>47</td>\n",
              "      <td>2010-04-09</td>\n",
              "      <td>14.0</td>\n",
              "      <td>False</td>\n",
              "      <td>43</td>\n",
              "    </tr>\n",
              "    <tr>\n",
              "      <th>6051</th>\n",
              "      <td>1</td>\n",
              "      <td>47</td>\n",
              "      <td>2010-10-08</td>\n",
              "      <td>-58.0</td>\n",
              "      <td>False</td>\n",
              "      <td>43</td>\n",
              "    </tr>\n",
              "  </tbody>\n",
              "</table>\n",
              "</div>"
            ],
            "text/plain": [
              "      Store  Dept       Date  Weekly_Sales  IsHoliday  ts_id\n",
              "6047      1    47 2010-02-05          70.0      False     43\n",
              "6048      1    47 2010-02-19        -863.0      False     43\n",
              "6049      1    47 2010-03-12        -698.0      False     43\n",
              "6050      1    47 2010-04-09          14.0      False     43\n",
              "6051      1    47 2010-10-08         -58.0      False     43"
            ]
          },
          "execution_count": 175,
          "metadata": {},
          "output_type": "execute_result"
        }
      ],
      "source": [
        "simple_forecast.head()"
      ]
    },
    {
      "cell_type": "code",
      "execution_count": 176,
      "metadata": {
        "colab": {
          "base_uri": "https://localhost:8080/",
          "height": 206
        },
        "id": "yD85uZkEBNqg",
        "outputId": "a7823a80-7280-4b5d-dccd-a0f10a1eb241"
      },
      "outputs": [
        {
          "data": {
            "text/html": [
              "<div>\n",
              "<style scoped>\n",
              "    .dataframe tbody tr th:only-of-type {\n",
              "        vertical-align: middle;\n",
              "    }\n",
              "\n",
              "    .dataframe tbody tr th {\n",
              "        vertical-align: top;\n",
              "    }\n",
              "\n",
              "    .dataframe thead th {\n",
              "        text-align: right;\n",
              "    }\n",
              "</style>\n",
              "<table border=\"1\" class=\"dataframe\">\n",
              "  <thead>\n",
              "    <tr style=\"text-align: right;\">\n",
              "      <th></th>\n",
              "      <th>ts_id</th>\n",
              "      <th>Weekly_Sales</th>\n",
              "    </tr>\n",
              "  </thead>\n",
              "  <tbody>\n",
              "    <tr>\n",
              "      <th>0</th>\n",
              "      <td>43</td>\n",
              "      <td>0.000000</td>\n",
              "    </tr>\n",
              "    <tr>\n",
              "      <th>1</th>\n",
              "      <td>46</td>\n",
              "      <td>32.712727</td>\n",
              "    </tr>\n",
              "    <tr>\n",
              "      <th>2</th>\n",
              "      <td>58</td>\n",
              "      <td>677.000000</td>\n",
              "    </tr>\n",
              "    <tr>\n",
              "      <th>3</th>\n",
              "      <td>59</td>\n",
              "      <td>11.500000</td>\n",
              "    </tr>\n",
              "    <tr>\n",
              "      <th>4</th>\n",
              "      <td>76</td>\n",
              "      <td>306.091081</td>\n",
              "    </tr>\n",
              "  </tbody>\n",
              "</table>\n",
              "</div>"
            ],
            "text/plain": [
              "   ts_id  Weekly_Sales\n",
              "0     43      0.000000\n",
              "1     46     32.712727\n",
              "2     58    677.000000\n",
              "3     59     11.500000\n",
              "4     76    306.091081"
            ]
          },
          "execution_count": 176,
          "metadata": {},
          "output_type": "execute_result"
        }
      ],
      "source": [
        "fcast_array.head()"
      ]
    },
    {
      "cell_type": "code",
      "execution_count": 181,
      "metadata": {
        "id": "sAvzHYqlNv5F"
      },
      "outputs": [],
      "source": [
        "#for id in fcast_array.ts_id.unique():\n",
        "temp = []\n",
        "holiday = df_test[['Date','IsHoliday']].drop_duplicates().sort_values('Date')['IsHoliday']\n",
        "for row in fcast_array.iterrows():\n",
        "    store = simple_forecast[simple_forecast.ts_id == row[1][0]].iloc[0,0]\n",
        "    dpt = simple_forecast[simple_forecast.ts_id == row[1][0]].iloc[0,1]\n",
        "    pred = row[1][1]\n",
        "    for i in range(39):\n",
        "        temp.append({'Store':store,'Dept':dpt,'Date':date_series[i],'IsHoliday':holiday.iloc[i],'Weekly_Sales':pred})"
      ]
    },
    {
      "cell_type": "code",
      "execution_count": 182,
      "metadata": {
        "id": "BpE6V9CW_wkA"
      },
      "outputs": [],
      "source": [
        "simple = pd.DataFrame(temp)"
      ]
    },
    {
      "cell_type": "markdown",
      "metadata": {
        "id": "R-PO6N62CGId"
      },
      "source": [
        "**Identify Series not in training**<br>\n",
        "set these to zero for forecast"
      ]
    },
    {
      "cell_type": "code",
      "execution_count": 184,
      "metadata": {
        "id": "J7QbnEpK_ri4"
      },
      "outputs": [],
      "source": [
        "training_set = df_train[['Store','Dept']].drop_duplicates().sort_values(by=['Store','Dept'])\n",
        "df_all = df_test.merge(training_set, on=['Store','Dept'], how='left', indicator=True)"
      ]
    },
    {
      "cell_type": "code",
      "execution_count": 188,
      "metadata": {
        "id": "ZupO9rTyCNoM"
      },
      "outputs": [],
      "source": [
        "crap_series = df_all[df_all._merge == 'left_only'][['Store','Dept']].drop_duplicates()"
      ]
    },
    {
      "cell_type": "code",
      "execution_count": 189,
      "metadata": {
        "id": "klRIYCndCesH"
      },
      "outputs": [],
      "source": [
        "#for id in fcast_array.ts_id.unique():\n",
        "temp = []\n",
        "holiday = df_test[['Date','IsHoliday']].drop_duplicates().sort_values('Date')['IsHoliday']\n",
        "for row in crap_series.iterrows():\n",
        "    store = row[1][0]\n",
        "    dpt = row[1][1]\n",
        "    pred = 0\n",
        "    for i in range(39):\n",
        "        temp.append({'Store':store,'Dept':dpt,'Date':date_series[i],'IsHoliday':holiday.iloc[i],'Weekly_Sales':pred})"
      ]
    },
    {
      "cell_type": "code",
      "execution_count": 190,
      "metadata": {
        "id": "kkxAvYB4DGhq"
      },
      "outputs": [],
      "source": [
        "crap = pd.DataFrame(temp)"
      ]
    },
    {
      "cell_type": "markdown",
      "metadata": {
        "id": "srRHTchzDL2k"
      },
      "source": [
        "**Combine Data**"
      ]
    },
    {
      "cell_type": "code",
      "execution_count": 196,
      "metadata": {
        "id": "5-LJS9VxF8cm"
      },
      "outputs": [],
      "source": [
        "dft = df_test[['Store','Dept','Date']]\n",
        "df_pred = df_pred1.merge(dft,how='inner',on=['Store','Dept','Date'])\n",
        "\n",
        "simple_forecast = simple_forecast.merge(dft,how='inner',on=['Store','Dept','Date'])\n",
        "crap = crap.merge(dft,how='inner',on=['Store','Dept','Date'])\n",
        "\n",
        "df_pred_new = pd.concat([df_pred,simple_forecast,crap],ignore_index=True)"
      ]
    },
    {
      "cell_type": "code",
      "execution_count": 206,
      "metadata": {
        "id": "85O63AXwHzM0"
      },
      "outputs": [],
      "source": [
        "df_pred_new.Store = df_pred_new.Store.astype(int)\n",
        "df_pred_new.Dept = df_pred_new.Dept.astype(int)"
      ]
    },
    {
      "cell_type": "code",
      "execution_count": 207,
      "metadata": {
        "id": "Lpngtq2IDvTf"
      },
      "outputs": [],
      "source": [
        "temp = []\n",
        "for row in df_pred_new.iterrows():\n",
        "    id = str(row[1][0])+'_'+str(row[1][1])+'_'+str(row[1][2])[:10]\n",
        "    pred = row[1][4]\n",
        "    temp.append({'Id':id,'Weekly_Sales':pred})"
      ]
    },
    {
      "cell_type": "code",
      "execution_count": 208,
      "metadata": {
        "id": "fdJHfk0H2CSh"
      },
      "outputs": [],
      "source": [
        "final_submission = pd.DataFrame(temp)"
      ]
    },
    {
      "cell_type": "code",
      "execution_count": 209,
      "metadata": {
        "colab": {
          "base_uri": "https://localhost:8080/",
          "height": 206
        },
        "id": "urXc3z6GHjVb",
        "outputId": "0ddba778-8ced-4e92-b318-1a23c53249b3"
      },
      "outputs": [
        {
          "data": {
            "text/html": [
              "<div>\n",
              "<style scoped>\n",
              "    .dataframe tbody tr th:only-of-type {\n",
              "        vertical-align: middle;\n",
              "    }\n",
              "\n",
              "    .dataframe tbody tr th {\n",
              "        vertical-align: top;\n",
              "    }\n",
              "\n",
              "    .dataframe thead th {\n",
              "        text-align: right;\n",
              "    }\n",
              "</style>\n",
              "<table border=\"1\" class=\"dataframe\">\n",
              "  <thead>\n",
              "    <tr style=\"text-align: right;\">\n",
              "      <th></th>\n",
              "      <th>Id</th>\n",
              "      <th>Weekly_Sales</th>\n",
              "    </tr>\n",
              "  </thead>\n",
              "  <tbody>\n",
              "    <tr>\n",
              "      <th>0</th>\n",
              "      <td>1_1_2012-11-02</td>\n",
              "      <td>25379.138672</td>\n",
              "    </tr>\n",
              "    <tr>\n",
              "      <th>1</th>\n",
              "      <td>1_1_2012-11-09</td>\n",
              "      <td>19420.230469</td>\n",
              "    </tr>\n",
              "    <tr>\n",
              "      <th>2</th>\n",
              "      <td>1_1_2012-11-16</td>\n",
              "      <td>17355.078125</td>\n",
              "    </tr>\n",
              "    <tr>\n",
              "      <th>3</th>\n",
              "      <td>1_1_2012-11-23</td>\n",
              "      <td>21758.083984</td>\n",
              "    </tr>\n",
              "    <tr>\n",
              "      <th>4</th>\n",
              "      <td>1_1_2012-11-30</td>\n",
              "      <td>20395.638672</td>\n",
              "    </tr>\n",
              "  </tbody>\n",
              "</table>\n",
              "</div>"
            ],
            "text/plain": [
              "               Id  Weekly_Sales\n",
              "0  1_1_2012-11-02  25379.138672\n",
              "1  1_1_2012-11-09  19420.230469\n",
              "2  1_1_2012-11-16  17355.078125\n",
              "3  1_1_2012-11-23  21758.083984\n",
              "4  1_1_2012-11-30  20395.638672"
            ]
          },
          "execution_count": 209,
          "metadata": {},
          "output_type": "execute_result"
        }
      ],
      "source": [
        "final_submission.head()"
      ]
    }
  ],
  "metadata": {
    "accelerator": "GPU",
    "colab": {
      "collapsed_sections": [],
      "machine_shape": "hm",
      "name": "NBEATS Retail Forecasting.ipynb",
      "provenance": [],
      "toc_visible": true
    },
    "kernelspec": {
      "display_name": "Python 3.8.12 ('base')",
      "language": "python",
      "name": "python3"
    },
    "language_info": {
      "name": "python",
      "version": "3.8.12"
    },
    "vscode": {
      "interpreter": {
        "hash": "68e77a2019630c844ad2ed089cfeaa1ff41081e574fef0e7734cace63a14be5f"
      }
    }
  },
  "nbformat": 4,
  "nbformat_minor": 0
}
